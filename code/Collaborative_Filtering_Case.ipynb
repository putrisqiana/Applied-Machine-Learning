{
  "nbformat": 4,
  "nbformat_minor": 0,
  "metadata": {
    "colab": {
      "name": "Collaborative Filtering Case.ipynb",
      "provenance": []
    },
    "kernelspec": {
      "name": "python3",
      "display_name": "Python 3"
    }
  },
  "cells": [
    {
      "cell_type": "markdown",
      "metadata": {
        "id": "hEQN446b6Dbn",
        "colab_type": "text"
      },
      "source": [
        "<h1 align=\"center\"><font size=\"5\">COLLABORATIVE FILTERING</font></h1>"
      ]
    },
    {
      "cell_type": "markdown",
      "metadata": {
        "id": "0u8UQOQJ59pC",
        "colab_type": "text"
      },
      "source": [
        "**Collaborative Filtering** is a technique that used by other users to recommend items to the input user. It attempts to find users that have similar preferences and opinions as the input and then recommends items that they have liked to the input. <br>\n",
        "<br>\n",
        "Collaborative Users is part of Recommendation System. <br>\n",
        "<br>\n",
        "**Recommendation systems** are a collection of algorithms used to recommend items to users based on information taken from the user.  <br>\n",
        "<br>\n",
        "In this notebook, we will explore recommendation systems based on Collaborative Filtering and implement simple version by Movies Database."
      ]
    },
    {
      "cell_type": "markdown",
      "metadata": {
        "id": "TUlmuTOK6Q-v",
        "colab_type": "text"
      },
      "source": [
        "First step in this collaborative filtering is same like others case to Import library that is needed for analyzing and processing the data."
      ]
    },
    {
      "cell_type": "code",
      "metadata": {
        "id": "qh23t4CBp6vN",
        "colab_type": "code",
        "colab": {}
      },
      "source": [
        "import pandas as pd\n",
        "from math import sqrt\n",
        "import numpy as np\n",
        "import matplotlib.pyplot as plt\n",
        "%matplotlib inline"
      ],
      "execution_count": 0,
      "outputs": []
    },
    {
      "cell_type": "markdown",
      "metadata": {
        "id": "9Wk6bg8B6pxa",
        "colab_type": "text"
      },
      "source": [
        "## Data Description"
      ]
    },
    {
      "cell_type": "code",
      "metadata": {
        "id": "AIGLBDTxxWtY",
        "colab_type": "code",
        "colab": {}
      },
      "source": [
        "movies_df = pd.read_csv('movies.csv', sep=\";\")\n",
        "ratings_df = pd.read_csv('ratings.csv', sep=\";\")"
      ],
      "execution_count": 0,
      "outputs": []
    },
    {
      "cell_type": "markdown",
      "metadata": {
        "id": "GNb-9pCz6vg4",
        "colab_type": "text"
      },
      "source": [
        "### Movies Data\n"
      ]
    },
    {
      "cell_type": "code",
      "metadata": {
        "id": "8FtoB-7SzyTg",
        "colab_type": "code",
        "colab": {
          "base_uri": "https://localhost:8080/",
          "height": 359
        },
        "outputId": "ae2730a6-3f07-4c2b-c60a-286364d79014"
      },
      "source": [
        "movies_df"
      ],
      "execution_count": 105,
      "outputs": [
        {
          "output_type": "execute_result",
          "data": {
            "text/html": [
              "<div>\n",
              "<style scoped>\n",
              "    .dataframe tbody tr th:only-of-type {\n",
              "        vertical-align: middle;\n",
              "    }\n",
              "\n",
              "    .dataframe tbody tr th {\n",
              "        vertical-align: top;\n",
              "    }\n",
              "\n",
              "    .dataframe thead th {\n",
              "        text-align: right;\n",
              "    }\n",
              "</style>\n",
              "<table border=\"1\" class=\"dataframe\">\n",
              "  <thead>\n",
              "    <tr style=\"text-align: right;\">\n",
              "      <th></th>\n",
              "      <th>MovieId</th>\n",
              "      <th>Title</th>\n",
              "    </tr>\n",
              "  </thead>\n",
              "  <tbody>\n",
              "    <tr>\n",
              "      <th>0</th>\n",
              "      <td>0</td>\n",
              "      <td>AADC 2</td>\n",
              "    </tr>\n",
              "    <tr>\n",
              "      <th>1</th>\n",
              "      <td>1</td>\n",
              "      <td>Gundala</td>\n",
              "    </tr>\n",
              "    <tr>\n",
              "      <th>2</th>\n",
              "      <td>2</td>\n",
              "      <td>Dilan 1991</td>\n",
              "    </tr>\n",
              "    <tr>\n",
              "      <th>3</th>\n",
              "      <td>3</td>\n",
              "      <td>Bumi Manusia</td>\n",
              "    </tr>\n",
              "    <tr>\n",
              "      <th>4</th>\n",
              "      <td>4</td>\n",
              "      <td>Dua Garis Biru</td>\n",
              "    </tr>\n",
              "    <tr>\n",
              "      <th>5</th>\n",
              "      <td>5</td>\n",
              "      <td>Avengers End Game</td>\n",
              "    </tr>\n",
              "    <tr>\n",
              "      <th>6</th>\n",
              "      <td>6</td>\n",
              "      <td>The Lion King</td>\n",
              "    </tr>\n",
              "    <tr>\n",
              "      <th>7</th>\n",
              "      <td>7</td>\n",
              "      <td>Aladdin</td>\n",
              "    </tr>\n",
              "    <tr>\n",
              "      <th>8</th>\n",
              "      <td>8</td>\n",
              "      <td>Spiderman Far From Home</td>\n",
              "    </tr>\n",
              "    <tr>\n",
              "      <th>9</th>\n",
              "      <td>9</td>\n",
              "      <td>Captain Marvel</td>\n",
              "    </tr>\n",
              "  </tbody>\n",
              "</table>\n",
              "</div>"
            ],
            "text/plain": [
              "   MovieId                    Title\n",
              "0        0                   AADC 2\n",
              "1        1                  Gundala\n",
              "2        2               Dilan 1991\n",
              "3        3             Bumi Manusia\n",
              "4        4           Dua Garis Biru\n",
              "5        5        Avengers End Game\n",
              "6        6            The Lion King\n",
              "7        7                  Aladdin\n",
              "8        8  Spiderman Far From Home\n",
              "9        9           Captain Marvel"
            ]
          },
          "metadata": {
            "tags": []
          },
          "execution_count": 105
        }
      ]
    },
    {
      "cell_type": "markdown",
      "metadata": {
        "id": "Cc0P8QEd_ElI",
        "colab_type": "text"
      },
      "source": [
        "In this dataframe there was a title of the movie and the movieId as a feature. The dataset is contain 10 movies that consist of 5 movies from Indonesian and 5 Movies from out of Indonesia. <br>\n",
        "- MovieId 0 until 4 is an Indonesian Movie\n",
        "- MovieId 5 until 9 is an Non-Indonesian Movie"
      ]
    },
    {
      "cell_type": "markdown",
      "metadata": {
        "id": "K1-lgQRn-lD4",
        "colab_type": "text"
      },
      "source": [
        "### Ratings Data\n"
      ]
    },
    {
      "cell_type": "code",
      "metadata": {
        "id": "tzyrtz9Ozzxm",
        "colab_type": "code",
        "colab": {
          "base_uri": "https://localhost:8080/",
          "height": 204
        },
        "outputId": "bc148c2c-f47a-4d85-e576-ac62e7e4889b"
      },
      "source": [
        "ratings_df.head()"
      ],
      "execution_count": 106,
      "outputs": [
        {
          "output_type": "execute_result",
          "data": {
            "text/html": [
              "<div>\n",
              "<style scoped>\n",
              "    .dataframe tbody tr th:only-of-type {\n",
              "        vertical-align: middle;\n",
              "    }\n",
              "\n",
              "    .dataframe tbody tr th {\n",
              "        vertical-align: top;\n",
              "    }\n",
              "\n",
              "    .dataframe thead th {\n",
              "        text-align: right;\n",
              "    }\n",
              "</style>\n",
              "<table border=\"1\" class=\"dataframe\">\n",
              "  <thead>\n",
              "    <tr style=\"text-align: right;\">\n",
              "      <th></th>\n",
              "      <th>UserId</th>\n",
              "      <th>Name</th>\n",
              "      <th>MovieId</th>\n",
              "      <th>Title</th>\n",
              "      <th>Ratings</th>\n",
              "    </tr>\n",
              "  </thead>\n",
              "  <tbody>\n",
              "    <tr>\n",
              "      <th>0</th>\n",
              "      <td>1</td>\n",
              "      <td>Hania</td>\n",
              "      <td>0</td>\n",
              "      <td>AADC 2</td>\n",
              "      <td>3</td>\n",
              "    </tr>\n",
              "    <tr>\n",
              "      <th>1</th>\n",
              "      <td>1</td>\n",
              "      <td>Hania</td>\n",
              "      <td>1</td>\n",
              "      <td>Gundala</td>\n",
              "      <td>5</td>\n",
              "    </tr>\n",
              "    <tr>\n",
              "      <th>2</th>\n",
              "      <td>1</td>\n",
              "      <td>Hania</td>\n",
              "      <td>2</td>\n",
              "      <td>Dilan 1991</td>\n",
              "      <td>4</td>\n",
              "    </tr>\n",
              "    <tr>\n",
              "      <th>3</th>\n",
              "      <td>1</td>\n",
              "      <td>Hania</td>\n",
              "      <td>3</td>\n",
              "      <td>Bumi Manusia</td>\n",
              "      <td>4</td>\n",
              "    </tr>\n",
              "    <tr>\n",
              "      <th>4</th>\n",
              "      <td>1</td>\n",
              "      <td>Hania</td>\n",
              "      <td>4</td>\n",
              "      <td>Dua Garis Biru</td>\n",
              "      <td>4</td>\n",
              "    </tr>\n",
              "  </tbody>\n",
              "</table>\n",
              "</div>"
            ],
            "text/plain": [
              "   UserId   Name  MovieId           Title  Ratings\n",
              "0       1  Hania        0          AADC 2        3\n",
              "1       1  Hania        1         Gundala        5\n",
              "2       1  Hania        2      Dilan 1991        4\n",
              "3       1  Hania        3    Bumi Manusia        4\n",
              "4       1  Hania        4  Dua Garis Biru        4"
            ]
          },
          "metadata": {
            "tags": []
          },
          "execution_count": 106
        }
      ]
    },
    {
      "cell_type": "markdown",
      "metadata": {
        "id": "izN5RQPY_MYx",
        "colab_type": "text"
      },
      "source": [
        "In ratings dataframe, there was an input from a user by the movie that they already watch. <br>\n",
        "So, there was a feature UserId and Name of the User, MovieId and Tittle of Movie, and How they give a ratings for the Movie."
      ]
    },
    {
      "cell_type": "markdown",
      "metadata": {
        "id": "fzyGvROnB3ax",
        "colab_type": "text"
      },
      "source": [
        "## Collaborative Filtering\n",
        "The process for creating a User Based recommendation system is as follows:\n",
        "- Select a user with the movies the user has watched\n",
        "- Based on his rating to movies, find the top X neighbours \n",
        "- Get the watched movie record of the user for each neighbour.\n",
        "- Calculate a similarity score using some formula\n",
        "- Recommend the items with the highest score"
      ]
    },
    {
      "cell_type": "markdown",
      "metadata": {
        "id": "wTsQDWoe_b9e",
        "colab_type": "text"
      },
      "source": [
        "### Input User\n",
        "\n",
        "This is the new data as a new movie reviewers. By this data, **we want to know what is the other movie that this user need to watch.**"
      ]
    },
    {
      "cell_type": "code",
      "metadata": {
        "id": "eXMXcufKz4Yu",
        "colab_type": "code",
        "colab": {
          "base_uri": "https://localhost:8080/",
          "height": 204
        },
        "outputId": "60eb261d-714e-4394-b8c6-8d50b37b246c"
      },
      "source": [
        "userInput = [\n",
        "            {'Title':'AADC 2', 'Ratings':3},\n",
        "            {'Title':'Dilan 1991', 'Ratings':2},\n",
        "            {'Title':'Dua Garis Biru', 'Ratings':4},\n",
        "            {'Title':'Avengers End Game', 'Ratings':5},\n",
        "            {'Title':'Captain Marvel', 'Ratings':3}\n",
        "         ] \n",
        "inputMovies = pd.DataFrame(userInput)\n",
        "inputMovies"
      ],
      "execution_count": 107,
      "outputs": [
        {
          "output_type": "execute_result",
          "data": {
            "text/html": [
              "<div>\n",
              "<style scoped>\n",
              "    .dataframe tbody tr th:only-of-type {\n",
              "        vertical-align: middle;\n",
              "    }\n",
              "\n",
              "    .dataframe tbody tr th {\n",
              "        vertical-align: top;\n",
              "    }\n",
              "\n",
              "    .dataframe thead th {\n",
              "        text-align: right;\n",
              "    }\n",
              "</style>\n",
              "<table border=\"1\" class=\"dataframe\">\n",
              "  <thead>\n",
              "    <tr style=\"text-align: right;\">\n",
              "      <th></th>\n",
              "      <th>Ratings</th>\n",
              "      <th>Title</th>\n",
              "    </tr>\n",
              "  </thead>\n",
              "  <tbody>\n",
              "    <tr>\n",
              "      <th>0</th>\n",
              "      <td>3</td>\n",
              "      <td>AADC 2</td>\n",
              "    </tr>\n",
              "    <tr>\n",
              "      <th>1</th>\n",
              "      <td>2</td>\n",
              "      <td>Dilan 1991</td>\n",
              "    </tr>\n",
              "    <tr>\n",
              "      <th>2</th>\n",
              "      <td>4</td>\n",
              "      <td>Dua Garis Biru</td>\n",
              "    </tr>\n",
              "    <tr>\n",
              "      <th>3</th>\n",
              "      <td>5</td>\n",
              "      <td>Avengers End Game</td>\n",
              "    </tr>\n",
              "    <tr>\n",
              "      <th>4</th>\n",
              "      <td>3</td>\n",
              "      <td>Captain Marvel</td>\n",
              "    </tr>\n",
              "  </tbody>\n",
              "</table>\n",
              "</div>"
            ],
            "text/plain": [
              "   Ratings              Title\n",
              "0        3             AADC 2\n",
              "1        2         Dilan 1991\n",
              "2        4     Dua Garis Biru\n",
              "3        5  Avengers End Game\n",
              "4        3     Captain Marvel"
            ]
          },
          "metadata": {
            "tags": []
          },
          "execution_count": 107
        }
      ]
    },
    {
      "cell_type": "markdown",
      "metadata": {
        "id": "aJmAmaFZC2Lv",
        "colab_type": "text"
      },
      "source": [
        "By this data, we can now that this user is likely to watch Indonesian movie because 60% movie that User ever whatced is Indonesian Movie."
      ]
    },
    {
      "cell_type": "markdown",
      "metadata": {
        "id": "D-rDQisoCHna",
        "colab_type": "text"
      },
      "source": [
        "### Add MovieId to input user\n",
        "First step after inputing the data of new user is extract the input movies's ID's from the movies dataframe and add them into it.\n",
        "\n",
        "We can achieve this by first filtering out the rows that contain the input movies' title and then merging this subset with the input dataframe."
      ]
    },
    {
      "cell_type": "code",
      "metadata": {
        "id": "MC8AmoiD0nZK",
        "colab_type": "code",
        "colab": {
          "base_uri": "https://localhost:8080/",
          "height": 204
        },
        "outputId": "92422c9d-5264-413c-d05a-37ccd784ef7c"
      },
      "source": [
        "#Filtering out the movies by title\n",
        "inputId = movies_df[movies_df['Title'].isin(inputMovies['Title'].tolist())]\n",
        "#Then merging it so we can get the movieId. It's implicitly merging it by title.\n",
        "inputMovies = pd.merge(inputId, inputMovies)\n",
        "inputMovies"
      ],
      "execution_count": 108,
      "outputs": [
        {
          "output_type": "execute_result",
          "data": {
            "text/html": [
              "<div>\n",
              "<style scoped>\n",
              "    .dataframe tbody tr th:only-of-type {\n",
              "        vertical-align: middle;\n",
              "    }\n",
              "\n",
              "    .dataframe tbody tr th {\n",
              "        vertical-align: top;\n",
              "    }\n",
              "\n",
              "    .dataframe thead th {\n",
              "        text-align: right;\n",
              "    }\n",
              "</style>\n",
              "<table border=\"1\" class=\"dataframe\">\n",
              "  <thead>\n",
              "    <tr style=\"text-align: right;\">\n",
              "      <th></th>\n",
              "      <th>MovieId</th>\n",
              "      <th>Title</th>\n",
              "      <th>Ratings</th>\n",
              "    </tr>\n",
              "  </thead>\n",
              "  <tbody>\n",
              "    <tr>\n",
              "      <th>0</th>\n",
              "      <td>0</td>\n",
              "      <td>AADC 2</td>\n",
              "      <td>3</td>\n",
              "    </tr>\n",
              "    <tr>\n",
              "      <th>1</th>\n",
              "      <td>2</td>\n",
              "      <td>Dilan 1991</td>\n",
              "      <td>2</td>\n",
              "    </tr>\n",
              "    <tr>\n",
              "      <th>2</th>\n",
              "      <td>4</td>\n",
              "      <td>Dua Garis Biru</td>\n",
              "      <td>4</td>\n",
              "    </tr>\n",
              "    <tr>\n",
              "      <th>3</th>\n",
              "      <td>5</td>\n",
              "      <td>Avengers End Game</td>\n",
              "      <td>5</td>\n",
              "    </tr>\n",
              "    <tr>\n",
              "      <th>4</th>\n",
              "      <td>9</td>\n",
              "      <td>Captain Marvel</td>\n",
              "      <td>3</td>\n",
              "    </tr>\n",
              "  </tbody>\n",
              "</table>\n",
              "</div>"
            ],
            "text/plain": [
              "   MovieId              Title  Ratings\n",
              "0        0             AADC 2        3\n",
              "1        2         Dilan 1991        2\n",
              "2        4     Dua Garis Biru        4\n",
              "3        5  Avengers End Game        5\n",
              "4        9     Captain Marvel        3"
            ]
          },
          "metadata": {
            "tags": []
          },
          "execution_count": 108
        }
      ]
    },
    {
      "cell_type": "markdown",
      "metadata": {
        "id": "5rJMskkYCkxf",
        "colab_type": "text"
      },
      "source": [
        "### Users who has seen the same movies\n",
        "Now with the movie ID's in the input, the next step is get the subset of users that have watched and reviewed the movies in the input.\n"
      ]
    },
    {
      "cell_type": "code",
      "metadata": {
        "id": "F67FLO7B01aa",
        "colab_type": "code",
        "colab": {
          "base_uri": "https://localhost:8080/",
          "height": 204
        },
        "outputId": "c6888444-79c8-4e89-922a-d2cccd519954"
      },
      "source": [
        "userSubset = ratings_df[ratings_df['MovieId'].isin(inputMovies['MovieId'].tolist())]\n",
        "userSubset.head()"
      ],
      "execution_count": 109,
      "outputs": [
        {
          "output_type": "execute_result",
          "data": {
            "text/html": [
              "<div>\n",
              "<style scoped>\n",
              "    .dataframe tbody tr th:only-of-type {\n",
              "        vertical-align: middle;\n",
              "    }\n",
              "\n",
              "    .dataframe tbody tr th {\n",
              "        vertical-align: top;\n",
              "    }\n",
              "\n",
              "    .dataframe thead th {\n",
              "        text-align: right;\n",
              "    }\n",
              "</style>\n",
              "<table border=\"1\" class=\"dataframe\">\n",
              "  <thead>\n",
              "    <tr style=\"text-align: right;\">\n",
              "      <th></th>\n",
              "      <th>UserId</th>\n",
              "      <th>Name</th>\n",
              "      <th>MovieId</th>\n",
              "      <th>Title</th>\n",
              "      <th>Ratings</th>\n",
              "    </tr>\n",
              "  </thead>\n",
              "  <tbody>\n",
              "    <tr>\n",
              "      <th>0</th>\n",
              "      <td>1</td>\n",
              "      <td>Hania</td>\n",
              "      <td>0</td>\n",
              "      <td>AADC 2</td>\n",
              "      <td>3</td>\n",
              "    </tr>\n",
              "    <tr>\n",
              "      <th>2</th>\n",
              "      <td>1</td>\n",
              "      <td>Hania</td>\n",
              "      <td>2</td>\n",
              "      <td>Dilan 1991</td>\n",
              "      <td>4</td>\n",
              "    </tr>\n",
              "    <tr>\n",
              "      <th>4</th>\n",
              "      <td>1</td>\n",
              "      <td>Hania</td>\n",
              "      <td>4</td>\n",
              "      <td>Dua Garis Biru</td>\n",
              "      <td>4</td>\n",
              "    </tr>\n",
              "    <tr>\n",
              "      <th>5</th>\n",
              "      <td>2</td>\n",
              "      <td>Topik</td>\n",
              "      <td>5</td>\n",
              "      <td>Avengers End Game</td>\n",
              "      <td>5</td>\n",
              "    </tr>\n",
              "    <tr>\n",
              "      <th>8</th>\n",
              "      <td>2</td>\n",
              "      <td>Topik</td>\n",
              "      <td>9</td>\n",
              "      <td>Captain Marvel</td>\n",
              "      <td>2</td>\n",
              "    </tr>\n",
              "  </tbody>\n",
              "</table>\n",
              "</div>"
            ],
            "text/plain": [
              "   UserId   Name  MovieId              Title  Ratings\n",
              "0       1  Hania        0             AADC 2        3\n",
              "2       1  Hania        2         Dilan 1991        4\n",
              "4       1  Hania        4     Dua Garis Biru        4\n",
              "5       2  Topik        5  Avengers End Game        5\n",
              "8       2  Topik        9     Captain Marvel        2"
            ]
          },
          "metadata": {
            "tags": []
          },
          "execution_count": 109
        }
      ]
    },
    {
      "cell_type": "markdown",
      "metadata": {
        "id": "CufEWyoiDSRD",
        "colab_type": "text"
      },
      "source": [
        "Group The Raw by **UserId**"
      ]
    },
    {
      "cell_type": "code",
      "metadata": {
        "id": "7Sxwtd0D1DP4",
        "colab_type": "code",
        "colab": {}
      },
      "source": [
        "userSubsetGroup = userSubset.groupby(['UserId'])"
      ],
      "execution_count": 0,
      "outputs": []
    },
    {
      "cell_type": "markdown",
      "metadata": {
        "id": "RaoXo0xtDY2O",
        "colab_type": "text"
      },
      "source": [
        "trying to look at one of the users, e.g. the one with userID=4"
      ]
    },
    {
      "cell_type": "code",
      "metadata": {
        "id": "67kcJkLC1Kdy",
        "colab_type": "code",
        "colab": {
          "base_uri": "https://localhost:8080/",
          "height": 204
        },
        "outputId": "dd2ab784-88d2-42d9-d663-0dc2327cd507"
      },
      "source": [
        "userSubsetGroup.get_group(4)"
      ],
      "execution_count": 111,
      "outputs": [
        {
          "output_type": "execute_result",
          "data": {
            "text/html": [
              "<div>\n",
              "<style scoped>\n",
              "    .dataframe tbody tr th:only-of-type {\n",
              "        vertical-align: middle;\n",
              "    }\n",
              "\n",
              "    .dataframe tbody tr th {\n",
              "        vertical-align: top;\n",
              "    }\n",
              "\n",
              "    .dataframe thead th {\n",
              "        text-align: right;\n",
              "    }\n",
              "</style>\n",
              "<table border=\"1\" class=\"dataframe\">\n",
              "  <thead>\n",
              "    <tr style=\"text-align: right;\">\n",
              "      <th></th>\n",
              "      <th>UserId</th>\n",
              "      <th>Name</th>\n",
              "      <th>MovieId</th>\n",
              "      <th>Title</th>\n",
              "      <th>Ratings</th>\n",
              "    </tr>\n",
              "  </thead>\n",
              "  <tbody>\n",
              "    <tr>\n",
              "      <th>11</th>\n",
              "      <td>4</td>\n",
              "      <td>Frans</td>\n",
              "      <td>0</td>\n",
              "      <td>AADC 2</td>\n",
              "      <td>4</td>\n",
              "    </tr>\n",
              "    <tr>\n",
              "      <th>13</th>\n",
              "      <td>4</td>\n",
              "      <td>Frans</td>\n",
              "      <td>2</td>\n",
              "      <td>Dilan 1991</td>\n",
              "      <td>4</td>\n",
              "    </tr>\n",
              "    <tr>\n",
              "      <th>15</th>\n",
              "      <td>4</td>\n",
              "      <td>Frans</td>\n",
              "      <td>4</td>\n",
              "      <td>Dua Garis Biru</td>\n",
              "      <td>3</td>\n",
              "    </tr>\n",
              "    <tr>\n",
              "      <th>16</th>\n",
              "      <td>4</td>\n",
              "      <td>Frans</td>\n",
              "      <td>5</td>\n",
              "      <td>Avengers End Game</td>\n",
              "      <td>5</td>\n",
              "    </tr>\n",
              "    <tr>\n",
              "      <th>20</th>\n",
              "      <td>4</td>\n",
              "      <td>Frans</td>\n",
              "      <td>9</td>\n",
              "      <td>Captain Marvel</td>\n",
              "      <td>4</td>\n",
              "    </tr>\n",
              "  </tbody>\n",
              "</table>\n",
              "</div>"
            ],
            "text/plain": [
              "    UserId   Name  MovieId              Title  Ratings\n",
              "11       4  Frans        0             AADC 2        4\n",
              "13       4  Frans        2         Dilan 1991        4\n",
              "15       4  Frans        4     Dua Garis Biru        3\n",
              "16       4  Frans        5  Avengers End Game        5\n",
              "20       4  Frans        9     Captain Marvel        4"
            ]
          },
          "metadata": {
            "tags": []
          },
          "execution_count": 111
        }
      ]
    },
    {
      "cell_type": "markdown",
      "metadata": {
        "id": "qzjjTmokDnWZ",
        "colab_type": "text"
      },
      "source": [
        "sort these groups so the users that share the most movies in common with the input have higher priority. This provides a richer recommendation since we won't go through every single user."
      ]
    },
    {
      "cell_type": "code",
      "metadata": {
        "id": "7XnpPxkk1PJM",
        "colab_type": "code",
        "colab": {}
      },
      "source": [
        "userSubsetGroup = sorted(userSubsetGroup,  key=lambda x: len(x[1]), reverse=True)"
      ],
      "execution_count": 0,
      "outputs": []
    },
    {
      "cell_type": "markdown",
      "metadata": {
        "id": "EWgL9KXyDs6n",
        "colab_type": "text"
      },
      "source": [
        "This is the result of first user that ever watched the same movie like the Input User"
      ]
    },
    {
      "cell_type": "code",
      "metadata": {
        "id": "4Pbhw3yC1ZXP",
        "colab_type": "code",
        "colab": {
          "base_uri": "https://localhost:8080/",
          "height": 323
        },
        "outputId": "a5e59bc8-a2b0-45f6-d342-3c4c48e69639"
      },
      "source": [
        "userSubsetGroup[0:3]"
      ],
      "execution_count": 113,
      "outputs": [
        {
          "output_type": "execute_result",
          "data": {
            "text/plain": [
              "[(4,     UserId   Name  MovieId              Title  Ratings\n",
              "  11       4  Frans        0             AADC 2        4\n",
              "  13       4  Frans        2         Dilan 1991        4\n",
              "  15       4  Frans        4     Dua Garis Biru        3\n",
              "  16       4  Frans        5  Avengers End Game        5\n",
              "  20       4  Frans        9     Captain Marvel        4),\n",
              " (5,     UserId   Name  MovieId              Title  Ratings\n",
              "  21       5  Indra        0             AADC 2        3\n",
              "  22       5  Indra        2         Dilan 1991        2\n",
              "  23       5  Indra        4     Dua Garis Biru        5\n",
              "  24       5  Indra        5  Avengers End Game        5\n",
              "  27       5  Indra        9     Captain Marvel        5),\n",
              " (10,     UserId   Name  MovieId              Title  Ratings\n",
              "  51      10  Putri        0             AADC 2        4\n",
              "  53      10  Putri        2         Dilan 1991        2\n",
              "  55      10  Putri        4     Dua Garis Biru        3\n",
              "  56      10  Putri        5  Avengers End Game        5\n",
              "  58      10  Putri        9     Captain Marvel        3)]"
            ]
          },
          "metadata": {
            "tags": []
          },
          "execution_count": 113
        }
      ]
    },
    {
      "cell_type": "markdown",
      "metadata": {
        "id": "8G-EdH54D8no",
        "colab_type": "text"
      },
      "source": [
        "### Similarity Of Users\n",
        "\n",
        "In this part is to compare all users to input user and find the one that is most similar.  \n",
        "The way to find out how similar each user is to the input through the **Pearson Correlation Coefficient** that used to measure the strength of a linear association between two variables."
      ]
    },
    {
      "cell_type": "markdown",
      "metadata": {
        "id": "mEvhqhP1Fful",
        "colab_type": "text"
      },
      "source": [
        "select a subset of users to iterate through. This limit is imposed because It can minimize to waste too much time going through every single user."
      ]
    },
    {
      "cell_type": "code",
      "metadata": {
        "id": "gr8fvee_1b9C",
        "colab_type": "code",
        "colab": {}
      },
      "source": [
        "userSubsetGroup = userSubsetGroup[0:24]"
      ],
      "execution_count": 0,
      "outputs": []
    },
    {
      "cell_type": "code",
      "metadata": {
        "id": "ZxhMCq-N1k9S",
        "colab_type": "code",
        "colab": {}
      },
      "source": [
        "#Store the Pearson Correlation in a dictionary, where the key is the user Id and the value is the coefficient\n",
        "pearsonCorrelationDict = {}\n",
        "\n",
        "#For every user group in our subset\n",
        "for name, group in userSubsetGroup:\n",
        "    #Let's start by sorting the input and current user group so the values aren't mixed up later on\n",
        "    group = group.sort_values(by='MovieId')\n",
        "    inputMovies = inputMovies.sort_values(by='MovieId')\n",
        "    #Get the N for the formula\n",
        "    nRatings = len(group)\n",
        "    #Get the review scores for the movies that they both have in common\n",
        "    temp_df = inputMovies[inputMovies['MovieId'].isin(group['MovieId'].tolist())]\n",
        "    #And then store them in a temporary buffer variable in a list format to facilitate future calculations\n",
        "    tempRatingList = temp_df['Ratings'].tolist()\n",
        "    #Let's also put the current user group reviews in a list format\n",
        "    tempGroupList = group['Ratings'].tolist()\n",
        "    #Now let's calculate the pearson correlation between two users, so called, x and y\n",
        "    Sxx = sum([i**2 for i in tempRatingList]) - pow(sum(tempRatingList),2)/float(nRatings)\n",
        "    Syy = sum([i**2 for i in tempGroupList]) - pow(sum(tempGroupList),2)/float(nRatings)\n",
        "    Sxy = sum( i*j for i, j in zip(tempRatingList, tempGroupList)) - sum(tempRatingList)*sum(tempGroupList)/float(nRatings)\n",
        "    \n",
        "    #If the denominator is different than zero, then divide, else, 0 correlation.\n",
        "    if Sxx != 0 and Syy != 0:\n",
        "        pearsonCorrelationDict[name] = Sxy/sqrt(Sxx*Syy)\n",
        "    else:\n",
        "        pearsonCorrelationDict[name] = 0\n"
      ],
      "execution_count": 0,
      "outputs": []
    },
    {
      "cell_type": "code",
      "metadata": {
        "id": "tPo3TzXu1ueo",
        "colab_type": "code",
        "colab": {
          "base_uri": "https://localhost:8080/",
          "height": 54
        },
        "outputId": "a33765d1-c4d9-4a52-d940-475bbbd8d0a8"
      },
      "source": [
        "pearsonCorrelationDict.items()"
      ],
      "execution_count": 116,
      "outputs": [
        {
          "output_type": "execute_result",
          "data": {
            "text/plain": [
              "dict_items([(4, 0.3100868364730211), (5, 0.7752170911825527), (10, 0.8076923076923078), (14, -0.2941742027072765), (16, 0.7399400733959447), (7, 0.760885910252682), (8, 0.13483997249264842), (9, 0.6622661785325219), (11, 0.760885910252682), (17, 0.6882472016116852), (19, 0.30151134457776363), (1, 0.0), (13, 0), (15, 0.7559289460184533), (18, 0.49999999999999667), (22, 0), (23, 0.866025403784439), (2, 1.0), (3, -1.0), (6, 1.0), (12, 0), (21, 0)])"
            ]
          },
          "metadata": {
            "tags": []
          },
          "execution_count": 116
        }
      ]
    },
    {
      "cell_type": "code",
      "metadata": {
        "id": "qo8ZdhdR13lK",
        "colab_type": "code",
        "colab": {
          "base_uri": "https://localhost:8080/",
          "height": 204
        },
        "outputId": "1bc178e4-93ca-4486-cfba-2a742bced6b6"
      },
      "source": [
        "pearsonDF = pd.DataFrame.from_dict(pearsonCorrelationDict, orient='index')\n",
        "pearsonDF.columns = ['similarityIndex']\n",
        "pearsonDF['UserId'] = pearsonDF.index\n",
        "pearsonDF.index = range(len(pearsonDF))\n",
        "pearsonDF.head()"
      ],
      "execution_count": 120,
      "outputs": [
        {
          "output_type": "execute_result",
          "data": {
            "text/html": [
              "<div>\n",
              "<style scoped>\n",
              "    .dataframe tbody tr th:only-of-type {\n",
              "        vertical-align: middle;\n",
              "    }\n",
              "\n",
              "    .dataframe tbody tr th {\n",
              "        vertical-align: top;\n",
              "    }\n",
              "\n",
              "    .dataframe thead th {\n",
              "        text-align: right;\n",
              "    }\n",
              "</style>\n",
              "<table border=\"1\" class=\"dataframe\">\n",
              "  <thead>\n",
              "    <tr style=\"text-align: right;\">\n",
              "      <th></th>\n",
              "      <th>similarityIndex</th>\n",
              "      <th>UserId</th>\n",
              "    </tr>\n",
              "  </thead>\n",
              "  <tbody>\n",
              "    <tr>\n",
              "      <th>0</th>\n",
              "      <td>0.310087</td>\n",
              "      <td>4</td>\n",
              "    </tr>\n",
              "    <tr>\n",
              "      <th>1</th>\n",
              "      <td>0.775217</td>\n",
              "      <td>5</td>\n",
              "    </tr>\n",
              "    <tr>\n",
              "      <th>2</th>\n",
              "      <td>0.807692</td>\n",
              "      <td>10</td>\n",
              "    </tr>\n",
              "    <tr>\n",
              "      <th>3</th>\n",
              "      <td>-0.294174</td>\n",
              "      <td>14</td>\n",
              "    </tr>\n",
              "    <tr>\n",
              "      <th>4</th>\n",
              "      <td>0.739940</td>\n",
              "      <td>16</td>\n",
              "    </tr>\n",
              "  </tbody>\n",
              "</table>\n",
              "</div>"
            ],
            "text/plain": [
              "   similarityIndex  UserId\n",
              "0         0.310087       4\n",
              "1         0.775217       5\n",
              "2         0.807692      10\n",
              "3        -0.294174      14\n",
              "4         0.739940      16"
            ]
          },
          "metadata": {
            "tags": []
          },
          "execution_count": 120
        }
      ]
    },
    {
      "cell_type": "markdown",
      "metadata": {
        "id": "KvTSJwkHG2vE",
        "colab_type": "text"
      },
      "source": [
        "Top Users Similarity is who is the person that have the same type of Movie that likely for watching together."
      ]
    },
    {
      "cell_type": "code",
      "metadata": {
        "id": "n-2f9tlK15qX",
        "colab_type": "code",
        "colab": {
          "base_uri": "https://localhost:8080/",
          "height": 204
        },
        "outputId": "a9749589-5e01-4279-b389-3893e380c32b"
      },
      "source": [
        "topUsers=pearsonDF.sort_values(by='similarityIndex', ascending=False)[0:24]\n",
        "topUsers.head()"
      ],
      "execution_count": 74,
      "outputs": [
        {
          "output_type": "execute_result",
          "data": {
            "text/html": [
              "<div>\n",
              "<style scoped>\n",
              "    .dataframe tbody tr th:only-of-type {\n",
              "        vertical-align: middle;\n",
              "    }\n",
              "\n",
              "    .dataframe tbody tr th {\n",
              "        vertical-align: top;\n",
              "    }\n",
              "\n",
              "    .dataframe thead th {\n",
              "        text-align: right;\n",
              "    }\n",
              "</style>\n",
              "<table border=\"1\" class=\"dataframe\">\n",
              "  <thead>\n",
              "    <tr style=\"text-align: right;\">\n",
              "      <th></th>\n",
              "      <th>similarityIndex</th>\n",
              "      <th>UserId</th>\n",
              "    </tr>\n",
              "  </thead>\n",
              "  <tbody>\n",
              "    <tr>\n",
              "      <th>19</th>\n",
              "      <td>1.000000</td>\n",
              "      <td>6</td>\n",
              "    </tr>\n",
              "    <tr>\n",
              "      <th>17</th>\n",
              "      <td>1.000000</td>\n",
              "      <td>2</td>\n",
              "    </tr>\n",
              "    <tr>\n",
              "      <th>16</th>\n",
              "      <td>0.866025</td>\n",
              "      <td>23</td>\n",
              "    </tr>\n",
              "    <tr>\n",
              "      <th>2</th>\n",
              "      <td>0.807692</td>\n",
              "      <td>10</td>\n",
              "    </tr>\n",
              "    <tr>\n",
              "      <th>1</th>\n",
              "      <td>0.775217</td>\n",
              "      <td>5</td>\n",
              "    </tr>\n",
              "  </tbody>\n",
              "</table>\n",
              "</div>"
            ],
            "text/plain": [
              "    similarityIndex  UserId\n",
              "19         1.000000       6\n",
              "17         1.000000       2\n",
              "16         0.866025      23\n",
              "2          0.807692      10\n",
              "1          0.775217       5"
            ]
          },
          "metadata": {
            "tags": []
          },
          "execution_count": 74
        }
      ]
    },
    {
      "cell_type": "markdown",
      "metadata": {
        "id": "AbW4fW0VHdma",
        "colab_type": "text"
      },
      "source": [
        "By this result, we know that the Users can watched the movie with UserId 6 and 2. It was Andre and Topik.  Because Andre and Topik has the highest similarity Index with this User."
      ]
    },
    {
      "cell_type": "markdown",
      "metadata": {
        "id": "wdc000oFH-ez",
        "colab_type": "text"
      },
      "source": [
        "### Recommend Movie For User\n",
        "\n",
        "Recommend Movie for User can be done by taking the weighted average of the ratings of the movies using the Pearson Correlation as the weight. First step for this is get the movies watched by the users in **pearsonDF** from the ratings dataframe and then store their correlation in a new column called **similarityIndex**. This is achieved below by merging of these two tables."
      ]
    },
    {
      "cell_type": "code",
      "metadata": {
        "id": "i3Dh2RtQ19H7",
        "colab_type": "code",
        "colab": {
          "base_uri": "https://localhost:8080/",
          "height": 204
        },
        "outputId": "8a885a00-86d6-4091-be5b-66edcdcdeb66"
      },
      "source": [
        "topUsersRating=topUsers.merge(ratings_df, left_on='UserId', right_on='UserId', how='inner')\n",
        "topUsersRating.head()"
      ],
      "execution_count": 75,
      "outputs": [
        {
          "output_type": "execute_result",
          "data": {
            "text/html": [
              "<div>\n",
              "<style scoped>\n",
              "    .dataframe tbody tr th:only-of-type {\n",
              "        vertical-align: middle;\n",
              "    }\n",
              "\n",
              "    .dataframe tbody tr th {\n",
              "        vertical-align: top;\n",
              "    }\n",
              "\n",
              "    .dataframe thead th {\n",
              "        text-align: right;\n",
              "    }\n",
              "</style>\n",
              "<table border=\"1\" class=\"dataframe\">\n",
              "  <thead>\n",
              "    <tr style=\"text-align: right;\">\n",
              "      <th></th>\n",
              "      <th>similarityIndex</th>\n",
              "      <th>UserId</th>\n",
              "      <th>Name</th>\n",
              "      <th>MovieId</th>\n",
              "      <th>Title</th>\n",
              "      <th>Ratings</th>\n",
              "    </tr>\n",
              "  </thead>\n",
              "  <tbody>\n",
              "    <tr>\n",
              "      <th>0</th>\n",
              "      <td>1.0</td>\n",
              "      <td>6</td>\n",
              "      <td>Andre</td>\n",
              "      <td>5</td>\n",
              "      <td>Avengers End Game</td>\n",
              "      <td>4</td>\n",
              "    </tr>\n",
              "    <tr>\n",
              "      <th>1</th>\n",
              "      <td>1.0</td>\n",
              "      <td>6</td>\n",
              "      <td>Andre</td>\n",
              "      <td>6</td>\n",
              "      <td>The Lion King</td>\n",
              "      <td>2</td>\n",
              "    </tr>\n",
              "    <tr>\n",
              "      <th>2</th>\n",
              "      <td>1.0</td>\n",
              "      <td>6</td>\n",
              "      <td>Andre</td>\n",
              "      <td>7</td>\n",
              "      <td>Aladdin</td>\n",
              "      <td>5</td>\n",
              "    </tr>\n",
              "    <tr>\n",
              "      <th>3</th>\n",
              "      <td>1.0</td>\n",
              "      <td>6</td>\n",
              "      <td>Andre</td>\n",
              "      <td>8</td>\n",
              "      <td>Spiderman Far From Home</td>\n",
              "      <td>4</td>\n",
              "    </tr>\n",
              "    <tr>\n",
              "      <th>4</th>\n",
              "      <td>1.0</td>\n",
              "      <td>6</td>\n",
              "      <td>Andre</td>\n",
              "      <td>9</td>\n",
              "      <td>Captain Marvel</td>\n",
              "      <td>3</td>\n",
              "    </tr>\n",
              "  </tbody>\n",
              "</table>\n",
              "</div>"
            ],
            "text/plain": [
              "   similarityIndex  UserId   Name  MovieId                    Title  Ratings\n",
              "0              1.0       6  Andre        5        Avengers End Game        4\n",
              "1              1.0       6  Andre        6            The Lion King        2\n",
              "2              1.0       6  Andre        7                  Aladdin        5\n",
              "3              1.0       6  Andre        8  Spiderman Far From Home        4\n",
              "4              1.0       6  Andre        9           Captain Marvel        3"
            ]
          },
          "metadata": {
            "tags": []
          },
          "execution_count": 75
        }
      ]
    },
    {
      "cell_type": "markdown",
      "metadata": {
        "id": "E4qGZIjpJuRv",
        "colab_type": "text"
      },
      "source": [
        "Next step is simply multiply the movie rating by its weight (The similarity index), then sum up the new ratings and divide it by the sum of the weights.\n",
        "\n",
        "It can be easy to do this by simply multiplying two columns, then grouping up the dataframe by movieId and then dividing two columns.\n",
        "\n",
        "It shows the idea of all similar users to candidate movies for the input user."
      ]
    },
    {
      "cell_type": "code",
      "metadata": {
        "id": "Y3J-MgtZ2BnS",
        "colab_type": "code",
        "colab": {
          "base_uri": "https://localhost:8080/",
          "height": 204
        },
        "outputId": "24b0b026-7fed-4c0c-8fa0-958cc1ae6c79"
      },
      "source": [
        "topUsersRating['weightedRating'] = topUsersRating['similarityIndex']*topUsersRating['Ratings']\n",
        "topUsersRating.head()"
      ],
      "execution_count": 76,
      "outputs": [
        {
          "output_type": "execute_result",
          "data": {
            "text/html": [
              "<div>\n",
              "<style scoped>\n",
              "    .dataframe tbody tr th:only-of-type {\n",
              "        vertical-align: middle;\n",
              "    }\n",
              "\n",
              "    .dataframe tbody tr th {\n",
              "        vertical-align: top;\n",
              "    }\n",
              "\n",
              "    .dataframe thead th {\n",
              "        text-align: right;\n",
              "    }\n",
              "</style>\n",
              "<table border=\"1\" class=\"dataframe\">\n",
              "  <thead>\n",
              "    <tr style=\"text-align: right;\">\n",
              "      <th></th>\n",
              "      <th>similarityIndex</th>\n",
              "      <th>UserId</th>\n",
              "      <th>Name</th>\n",
              "      <th>MovieId</th>\n",
              "      <th>Title</th>\n",
              "      <th>Ratings</th>\n",
              "      <th>weightedRating</th>\n",
              "    </tr>\n",
              "  </thead>\n",
              "  <tbody>\n",
              "    <tr>\n",
              "      <th>0</th>\n",
              "      <td>1.0</td>\n",
              "      <td>6</td>\n",
              "      <td>Andre</td>\n",
              "      <td>5</td>\n",
              "      <td>Avengers End Game</td>\n",
              "      <td>4</td>\n",
              "      <td>4.0</td>\n",
              "    </tr>\n",
              "    <tr>\n",
              "      <th>1</th>\n",
              "      <td>1.0</td>\n",
              "      <td>6</td>\n",
              "      <td>Andre</td>\n",
              "      <td>6</td>\n",
              "      <td>The Lion King</td>\n",
              "      <td>2</td>\n",
              "      <td>2.0</td>\n",
              "    </tr>\n",
              "    <tr>\n",
              "      <th>2</th>\n",
              "      <td>1.0</td>\n",
              "      <td>6</td>\n",
              "      <td>Andre</td>\n",
              "      <td>7</td>\n",
              "      <td>Aladdin</td>\n",
              "      <td>5</td>\n",
              "      <td>5.0</td>\n",
              "    </tr>\n",
              "    <tr>\n",
              "      <th>3</th>\n",
              "      <td>1.0</td>\n",
              "      <td>6</td>\n",
              "      <td>Andre</td>\n",
              "      <td>8</td>\n",
              "      <td>Spiderman Far From Home</td>\n",
              "      <td>4</td>\n",
              "      <td>4.0</td>\n",
              "    </tr>\n",
              "    <tr>\n",
              "      <th>4</th>\n",
              "      <td>1.0</td>\n",
              "      <td>6</td>\n",
              "      <td>Andre</td>\n",
              "      <td>9</td>\n",
              "      <td>Captain Marvel</td>\n",
              "      <td>3</td>\n",
              "      <td>3.0</td>\n",
              "    </tr>\n",
              "  </tbody>\n",
              "</table>\n",
              "</div>"
            ],
            "text/plain": [
              "   similarityIndex  UserId  ... Ratings  weightedRating\n",
              "0              1.0       6  ...       4             4.0\n",
              "1              1.0       6  ...       2             2.0\n",
              "2              1.0       6  ...       5             5.0\n",
              "3              1.0       6  ...       4             4.0\n",
              "4              1.0       6  ...       3             3.0\n",
              "\n",
              "[5 rows x 7 columns]"
            ]
          },
          "metadata": {
            "tags": []
          },
          "execution_count": 76
        }
      ]
    },
    {
      "cell_type": "code",
      "metadata": {
        "id": "iVNuMCIb27Y_",
        "colab_type": "code",
        "colab": {
          "base_uri": "https://localhost:8080/",
          "height": 235
        },
        "outputId": "d3dde3ae-59ca-4715-e970-12942603d623"
      },
      "source": [
        "tempTopUsersRating = topUsersRating.groupby('MovieId').sum()[['similarityIndex','weightedRating']]\n",
        "tempTopUsersRating.columns = ['sum_similarityIndex','sum_weightedRating']\n",
        "tempTopUsersRating.head()"
      ],
      "execution_count": 77,
      "outputs": [
        {
          "output_type": "execute_result",
          "data": {
            "text/html": [
              "<div>\n",
              "<style scoped>\n",
              "    .dataframe tbody tr th:only-of-type {\n",
              "        vertical-align: middle;\n",
              "    }\n",
              "\n",
              "    .dataframe tbody tr th {\n",
              "        vertical-align: top;\n",
              "    }\n",
              "\n",
              "    .dataframe thead th {\n",
              "        text-align: right;\n",
              "    }\n",
              "</style>\n",
              "<table border=\"1\" class=\"dataframe\">\n",
              "  <thead>\n",
              "    <tr style=\"text-align: right;\">\n",
              "      <th></th>\n",
              "      <th>sum_similarityIndex</th>\n",
              "      <th>sum_weightedRating</th>\n",
              "    </tr>\n",
              "    <tr>\n",
              "      <th>MovieId</th>\n",
              "      <th></th>\n",
              "      <th></th>\n",
              "    </tr>\n",
              "  </thead>\n",
              "  <tbody>\n",
              "    <tr>\n",
              "      <th>0</th>\n",
              "      <td>7.013424</td>\n",
              "      <td>25.926711</td>\n",
              "    </tr>\n",
              "    <tr>\n",
              "      <th>1</th>\n",
              "      <td>5.691759</td>\n",
              "      <td>20.216037</td>\n",
              "    </tr>\n",
              "    <tr>\n",
              "      <th>2</th>\n",
              "      <td>6.101816</td>\n",
              "      <td>18.820400</td>\n",
              "    </tr>\n",
              "    <tr>\n",
              "      <th>3</th>\n",
              "      <td>0.958445</td>\n",
              "      <td>4.278706</td>\n",
              "    </tr>\n",
              "    <tr>\n",
              "      <th>4</th>\n",
              "      <td>2.775113</td>\n",
              "      <td>11.792006</td>\n",
              "    </tr>\n",
              "  </tbody>\n",
              "</table>\n",
              "</div>"
            ],
            "text/plain": [
              "         sum_similarityIndex  sum_weightedRating\n",
              "MovieId                                         \n",
              "0                   7.013424           25.926711\n",
              "1                   5.691759           20.216037\n",
              "2                   6.101816           18.820400\n",
              "3                   0.958445            4.278706\n",
              "4                   2.775113           11.792006"
            ]
          },
          "metadata": {
            "tags": []
          },
          "execution_count": 77
        }
      ]
    },
    {
      "cell_type": "code",
      "metadata": {
        "id": "xu6kPI-23FjB",
        "colab_type": "code",
        "colab": {
          "base_uri": "https://localhost:8080/",
          "height": 235
        },
        "outputId": "986e21d3-b592-44d2-dfbe-da22e492eac8"
      },
      "source": [
        "#Creates an empty dataframe\n",
        "recommendation_df = pd.DataFrame()\n",
        "#Now we take the weighted average\n",
        "recommendation_df['weighted average recommendation score'] = tempTopUsersRating['sum_weightedRating']/tempTopUsersRating['sum_similarityIndex']\n",
        "recommendation_df['MovieId'] = tempTopUsersRating.index\n",
        "recommendation_df.head()"
      ],
      "execution_count": 78,
      "outputs": [
        {
          "output_type": "execute_result",
          "data": {
            "text/html": [
              "<div>\n",
              "<style scoped>\n",
              "    .dataframe tbody tr th:only-of-type {\n",
              "        vertical-align: middle;\n",
              "    }\n",
              "\n",
              "    .dataframe tbody tr th {\n",
              "        vertical-align: top;\n",
              "    }\n",
              "\n",
              "    .dataframe thead th {\n",
              "        text-align: right;\n",
              "    }\n",
              "</style>\n",
              "<table border=\"1\" class=\"dataframe\">\n",
              "  <thead>\n",
              "    <tr style=\"text-align: right;\">\n",
              "      <th></th>\n",
              "      <th>weighted average recommendation score</th>\n",
              "      <th>MovieId</th>\n",
              "    </tr>\n",
              "    <tr>\n",
              "      <th>MovieId</th>\n",
              "      <th></th>\n",
              "      <th></th>\n",
              "    </tr>\n",
              "  </thead>\n",
              "  <tbody>\n",
              "    <tr>\n",
              "      <th>0</th>\n",
              "      <td>3.696727</td>\n",
              "      <td>0</td>\n",
              "    </tr>\n",
              "    <tr>\n",
              "      <th>1</th>\n",
              "      <td>3.551808</td>\n",
              "      <td>1</td>\n",
              "    </tr>\n",
              "    <tr>\n",
              "      <th>2</th>\n",
              "      <td>3.084393</td>\n",
              "      <td>2</td>\n",
              "    </tr>\n",
              "    <tr>\n",
              "      <th>3</th>\n",
              "      <td>4.464217</td>\n",
              "      <td>3</td>\n",
              "    </tr>\n",
              "    <tr>\n",
              "      <th>4</th>\n",
              "      <td>4.249198</td>\n",
              "      <td>4</td>\n",
              "    </tr>\n",
              "  </tbody>\n",
              "</table>\n",
              "</div>"
            ],
            "text/plain": [
              "         weighted average recommendation score  MovieId\n",
              "MovieId                                                \n",
              "0                                     3.696727        0\n",
              "1                                     3.551808        1\n",
              "2                                     3.084393        2\n",
              "3                                     4.464217        3\n",
              "4                                     4.249198        4"
            ]
          },
          "metadata": {
            "tags": []
          },
          "execution_count": 78
        }
      ]
    },
    {
      "cell_type": "markdown",
      "metadata": {
        "id": "pXoFGQ1DKH5O",
        "colab_type": "text"
      },
      "source": [
        "Now let's sort it and see the top 3 movies that the algorithm recommended"
      ]
    },
    {
      "cell_type": "code",
      "metadata": {
        "id": "VDutVTvM3Kat",
        "colab_type": "code",
        "colab": {
          "base_uri": "https://localhost:8080/",
          "height": 173
        },
        "outputId": "faf85750-dfe7-41aa-9218-2f87c8e6ca08"
      },
      "source": [
        "recommendation_df = recommendation_df.sort_values(by='weighted average recommendation score', ascending=False)\n",
        "recommendation_df.head(3)"
      ],
      "execution_count": 81,
      "outputs": [
        {
          "output_type": "execute_result",
          "data": {
            "text/html": [
              "<div>\n",
              "<style scoped>\n",
              "    .dataframe tbody tr th:only-of-type {\n",
              "        vertical-align: middle;\n",
              "    }\n",
              "\n",
              "    .dataframe tbody tr th {\n",
              "        vertical-align: top;\n",
              "    }\n",
              "\n",
              "    .dataframe thead th {\n",
              "        text-align: right;\n",
              "    }\n",
              "</style>\n",
              "<table border=\"1\" class=\"dataframe\">\n",
              "  <thead>\n",
              "    <tr style=\"text-align: right;\">\n",
              "      <th></th>\n",
              "      <th>weighted average recommendation score</th>\n",
              "      <th>MovieId</th>\n",
              "    </tr>\n",
              "    <tr>\n",
              "      <th>MovieId</th>\n",
              "      <th></th>\n",
              "      <th></th>\n",
              "    </tr>\n",
              "  </thead>\n",
              "  <tbody>\n",
              "    <tr>\n",
              "      <th>5</th>\n",
              "      <td>5.015278</td>\n",
              "      <td>5</td>\n",
              "    </tr>\n",
              "    <tr>\n",
              "      <th>7</th>\n",
              "      <td>4.507684</td>\n",
              "      <td>7</td>\n",
              "    </tr>\n",
              "    <tr>\n",
              "      <th>3</th>\n",
              "      <td>4.464217</td>\n",
              "      <td>3</td>\n",
              "    </tr>\n",
              "  </tbody>\n",
              "</table>\n",
              "</div>"
            ],
            "text/plain": [
              "         weighted average recommendation score  MovieId\n",
              "MovieId                                                \n",
              "5                                     5.015278        5\n",
              "7                                     4.507684        7\n",
              "3                                     4.464217        3"
            ]
          },
          "metadata": {
            "tags": []
          },
          "execution_count": 81
        }
      ]
    },
    {
      "cell_type": "code",
      "metadata": {
        "id": "RmU32L1h3Nb_",
        "colab_type": "code",
        "colab": {
          "base_uri": "https://localhost:8080/",
          "height": 142
        },
        "outputId": "e2ac158a-531a-4703-9741-1e5f750bafa4"
      },
      "source": [
        "movies_df.loc[movies_df['MovieId'].isin(recommendation_df.head(3)['MovieId'].tolist())]"
      ],
      "execution_count": 86,
      "outputs": [
        {
          "output_type": "execute_result",
          "data": {
            "text/html": [
              "<div>\n",
              "<style scoped>\n",
              "    .dataframe tbody tr th:only-of-type {\n",
              "        vertical-align: middle;\n",
              "    }\n",
              "\n",
              "    .dataframe tbody tr th {\n",
              "        vertical-align: top;\n",
              "    }\n",
              "\n",
              "    .dataframe thead th {\n",
              "        text-align: right;\n",
              "    }\n",
              "</style>\n",
              "<table border=\"1\" class=\"dataframe\">\n",
              "  <thead>\n",
              "    <tr style=\"text-align: right;\">\n",
              "      <th></th>\n",
              "      <th>MovieId</th>\n",
              "      <th>Title</th>\n",
              "    </tr>\n",
              "  </thead>\n",
              "  <tbody>\n",
              "    <tr>\n",
              "      <th>3</th>\n",
              "      <td>3</td>\n",
              "      <td>Bumi Manusia</td>\n",
              "    </tr>\n",
              "    <tr>\n",
              "      <th>5</th>\n",
              "      <td>5</td>\n",
              "      <td>Avengers End Game</td>\n",
              "    </tr>\n",
              "    <tr>\n",
              "      <th>7</th>\n",
              "      <td>7</td>\n",
              "      <td>Aladdin</td>\n",
              "    </tr>\n",
              "  </tbody>\n",
              "</table>\n",
              "</div>"
            ],
            "text/plain": [
              "   MovieId              Title\n",
              "3        3       Bumi Manusia\n",
              "5        5  Avengers End Game\n",
              "7        7            Aladdin"
            ]
          },
          "metadata": {
            "tags": []
          },
          "execution_count": 86
        }
      ]
    },
    {
      "cell_type": "markdown",
      "metadata": {
        "id": "5ybCE-HcKPCC",
        "colab_type": "text"
      },
      "source": [
        "We can see that the top 3 recommended movies for this Users need to watch is **Bumi Manusia, Avengers End Game, and Aladdin**."
      ]
    },
    {
      "cell_type": "markdown",
      "metadata": {
        "id": "Hrpw6Cw7KiLB",
        "colab_type": "text"
      },
      "source": [
        "## Conclusion\n",
        "\n",
        "The next movie that the User need to watch is **Bumi Manusia, Avengers End Game and Aladdin**. The user can also watch the movie with **Andre or Topik**. <br>\n",
        "<br>\n",
        "Notes : Avengers End Game is needed to watch again may be because the rating that The User give to this movie is 5 which is mean it a good movie and may be the User want to watch this movie again."
      ]
    }
  ]
}