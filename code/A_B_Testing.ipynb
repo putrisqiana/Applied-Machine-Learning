{
  "nbformat": 4,
  "nbformat_minor": 0,
  "metadata": {
    "colab": {
      "name": "A/B Testing.ipynb",
      "provenance": []
    },
    "kernelspec": {
      "name": "python3",
      "display_name": "Python 3"
    }
  },
  "cells": [
    {
      "cell_type": "markdown",
      "metadata": {
        "id": "-BxCaP4hxmey",
        "colab_type": "text"
      },
      "source": [
        "<h1 align=center><font size = 5>A/B TESTING</font></h1>"
      ]
    },
    {
      "cell_type": "markdown",
      "metadata": {
        "id": "PFGX0SjDyWQt",
        "colab_type": "text"
      },
      "source": [
        "**A/B testing** is a randomized experiment with two variants, A and B. It includes application of statistical hypothesis testing or \"two-sample hypothesis testing\" as used in the field of statistics.<br>\n",
        "<br>\n",
        "In this case, will be working to understand the results of an A/B test run by an e-commerce website. <br>\n",
        "<br>\n",
        "The **Goal** is to help the company understand if they should implement the new page, keep the old page, or perhaps run the experiment longer to make their decision.<br>\n",
        "<br>\n",
        "First step in this content-based filtering is same like others case to Import library that is needed for analyzing and processing the data."
      ]
    },
    {
      "cell_type": "code",
      "metadata": {
        "id": "_wLG9YDoxn5x",
        "colab_type": "code",
        "colab": {}
      },
      "source": [
        "import pandas as pd\n",
        "import numpy as np\n",
        "import random\n",
        "import matplotlib.pyplot as plt\n",
        "%matplotlib inline\n",
        "from sklearn.linear_model import LogisticRegression\n",
        "from sklearn.metrics import confusion_matrix, precision_score, recall_score, accuracy_score\n",
        "from sklearn.model_selection import train_test_split\n",
        "import statsmodels.api as sm\n",
        "from scipy.stats import norm"
      ],
      "execution_count": 0,
      "outputs": []
    },
    {
      "cell_type": "markdown",
      "metadata": {
        "id": "xI0KeTlA0_Wa",
        "colab_type": "text"
      },
      "source": [
        "## Data Description"
      ]
    },
    {
      "cell_type": "code",
      "metadata": {
        "id": "Ue-BxT3bzqej",
        "colab_type": "code",
        "colab": {
          "base_uri": "https://localhost:8080/",
          "height": 204
        },
        "outputId": "fed3cc07-d3d4-4d7b-874e-b535aecce17a"
      },
      "source": [
        "df = pd.read_csv('ab_data.csv')\n",
        "df.head()"
      ],
      "execution_count": 38,
      "outputs": [
        {
          "output_type": "execute_result",
          "data": {
            "text/html": [
              "<div>\n",
              "<style scoped>\n",
              "    .dataframe tbody tr th:only-of-type {\n",
              "        vertical-align: middle;\n",
              "    }\n",
              "\n",
              "    .dataframe tbody tr th {\n",
              "        vertical-align: top;\n",
              "    }\n",
              "\n",
              "    .dataframe thead th {\n",
              "        text-align: right;\n",
              "    }\n",
              "</style>\n",
              "<table border=\"1\" class=\"dataframe\">\n",
              "  <thead>\n",
              "    <tr style=\"text-align: right;\">\n",
              "      <th></th>\n",
              "      <th>user_id</th>\n",
              "      <th>timestamp</th>\n",
              "      <th>group</th>\n",
              "      <th>landing_page</th>\n",
              "      <th>converted</th>\n",
              "    </tr>\n",
              "  </thead>\n",
              "  <tbody>\n",
              "    <tr>\n",
              "      <th>0</th>\n",
              "      <td>851104</td>\n",
              "      <td>2017-01-21 22:11:48.556739</td>\n",
              "      <td>control</td>\n",
              "      <td>old_page</td>\n",
              "      <td>0</td>\n",
              "    </tr>\n",
              "    <tr>\n",
              "      <th>1</th>\n",
              "      <td>804228</td>\n",
              "      <td>2017-01-12 08:01:45.159739</td>\n",
              "      <td>control</td>\n",
              "      <td>old_page</td>\n",
              "      <td>0</td>\n",
              "    </tr>\n",
              "    <tr>\n",
              "      <th>2</th>\n",
              "      <td>661590</td>\n",
              "      <td>2017-01-11 16:55:06.154213</td>\n",
              "      <td>treatment</td>\n",
              "      <td>new_page</td>\n",
              "      <td>0</td>\n",
              "    </tr>\n",
              "    <tr>\n",
              "      <th>3</th>\n",
              "      <td>853541</td>\n",
              "      <td>2017-01-08 18:28:03.143765</td>\n",
              "      <td>treatment</td>\n",
              "      <td>new_page</td>\n",
              "      <td>0</td>\n",
              "    </tr>\n",
              "    <tr>\n",
              "      <th>4</th>\n",
              "      <td>864975</td>\n",
              "      <td>2017-01-21 01:52:26.210827</td>\n",
              "      <td>control</td>\n",
              "      <td>old_page</td>\n",
              "      <td>1</td>\n",
              "    </tr>\n",
              "  </tbody>\n",
              "</table>\n",
              "</div>"
            ],
            "text/plain": [
              "   user_id                   timestamp      group landing_page  converted\n",
              "0   851104  2017-01-21 22:11:48.556739    control     old_page          0\n",
              "1   804228  2017-01-12 08:01:45.159739    control     old_page          0\n",
              "2   661590  2017-01-11 16:55:06.154213  treatment     new_page          0\n",
              "3   853541  2017-01-08 18:28:03.143765  treatment     new_page          0\n",
              "4   864975  2017-01-21 01:52:26.210827    control     old_page          1"
            ]
          },
          "metadata": {
            "tags": []
          },
          "execution_count": 38
        }
      ]
    },
    {
      "cell_type": "code",
      "metadata": {
        "id": "k31WXpqF0JLb",
        "colab_type": "code",
        "colab": {
          "base_uri": "https://localhost:8080/",
          "height": 187
        },
        "outputId": "f9f6405b-24cb-46ea-d81c-6074a1c9e60c"
      },
      "source": [
        "df.info()"
      ],
      "execution_count": 39,
      "outputs": [
        {
          "output_type": "stream",
          "text": [
            "<class 'pandas.core.frame.DataFrame'>\n",
            "RangeIndex: 294478 entries, 0 to 294477\n",
            "Data columns (total 5 columns):\n",
            "user_id         294478 non-null int64\n",
            "timestamp       294478 non-null object\n",
            "group           294478 non-null object\n",
            "landing_page    294478 non-null object\n",
            "converted       294478 non-null int64\n",
            "dtypes: int64(2), object(3)\n",
            "memory usage: 11.2+ MB\n"
          ],
          "name": "stdout"
        }
      ]
    },
    {
      "cell_type": "code",
      "metadata": {
        "id": "LpwsdydH0K-8",
        "colab_type": "code",
        "colab": {
          "base_uri": "https://localhost:8080/",
          "height": 34
        },
        "outputId": "b8bb0d7b-54f2-4231-a903-c2cad7743443"
      },
      "source": [
        "df.user_id.nunique()"
      ],
      "execution_count": 40,
      "outputs": [
        {
          "output_type": "execute_result",
          "data": {
            "text/plain": [
              "290584"
            ]
          },
          "metadata": {
            "tags": []
          },
          "execution_count": 40
        }
      ]
    },
    {
      "cell_type": "markdown",
      "metadata": {
        "id": "II8JraR70KCa",
        "colab_type": "text"
      },
      "source": [
        "The total users is 294.477 but the number of unique user is only 290.584. <br>\n",
        "<br>\n",
        "It means that there was a data that dont line up between\n",
        "- treatment = new page\n",
        "- control = old page\n",
        "\n",
        "So, we need to clean it."
      ]
    },
    {
      "cell_type": "code",
      "metadata": {
        "id": "X5H81KfK1c2j",
        "colab_type": "code",
        "colab": {
          "base_uri": "https://localhost:8080/",
          "height": 34
        },
        "outputId": "5349c99f-1b69-45a9-b599-15f0f3359789"
      },
      "source": [
        "l = df.query('(group == \"treatment\" and landing_page != \"new_page\" ) \\\n",
        "         or (group != \"treatment\" and landing_page == \"new_page\")').count()[0]\n",
        "print(\"The number of times the new_page and treatment don't line up is {}\".format(l))"
      ],
      "execution_count": 41,
      "outputs": [
        {
          "output_type": "stream",
          "text": [
            "The number of times the new_page and treatment don't line up is 3893\n"
          ],
          "name": "stdout"
        }
      ]
    },
    {
      "cell_type": "markdown",
      "metadata": {
        "id": "alL3iW9wBhOK",
        "colab_type": "text"
      },
      "source": [
        "There was 3893 data that\n",
        "- treatment = old page\n",
        "- control = new page\n",
        "\n",
        "It means that this row isnt truly received the new or old page.<br>\n",
        "<br>\n",
        "So, these rows will be drop and create a new dataframe."
      ]
    },
    {
      "cell_type": "code",
      "metadata": {
        "id": "kHGDo8FU14_9",
        "colab_type": "code",
        "colab": {}
      },
      "source": [
        "df2 =df.drop(df.query('(group == \"treatment\" and landing_page != \"new_page\" ) \\\n",
        "                      or (group != \"treatment\" and landing_page == \"new_page\") or (group == \"control\" and landing_page != \"old_page\") or (group != \"control\" and landing_page == \"old_page\")').index)"
      ],
      "execution_count": 0,
      "outputs": []
    },
    {
      "cell_type": "code",
      "metadata": {
        "id": "2sHEDqqF28xQ",
        "colab_type": "code",
        "colab": {
          "base_uri": "https://localhost:8080/",
          "height": 34
        },
        "outputId": "b950b5c8-aed4-45e4-a4b4-a2a1c1ffb94c"
      },
      "source": [
        "df2.user_id.nunique()"
      ],
      "execution_count": 43,
      "outputs": [
        {
          "output_type": "execute_result",
          "data": {
            "text/plain": [
              "290584"
            ]
          },
          "metadata": {
            "tags": []
          },
          "execution_count": 43
        }
      ]
    },
    {
      "cell_type": "markdown",
      "metadata": {
        "id": "ONPd2i_tCVdk",
        "colab_type": "text"
      },
      "source": [
        "Now the unique users is already clean with 290584 users. Next is checking if there was a data that duplicate."
      ]
    },
    {
      "cell_type": "code",
      "metadata": {
        "id": "Z0ico_UtC2C6",
        "colab_type": "code",
        "colab": {
          "base_uri": "https://localhost:8080/",
          "height": 51
        },
        "outputId": "435890e6-1c52-4de3-c2ad-2d08a8800939"
      },
      "source": [
        "df2[df2['user_id'].duplicated()]['user_id']"
      ],
      "execution_count": 44,
      "outputs": [
        {
          "output_type": "execute_result",
          "data": {
            "text/plain": [
              "2893    773192\n",
              "Name: user_id, dtype: int64"
            ]
          },
          "metadata": {
            "tags": []
          },
          "execution_count": 44
        }
      ]
    },
    {
      "cell_type": "markdown",
      "metadata": {
        "id": "5pfwmNStDXmw",
        "colab_type": "text"
      },
      "source": [
        "UserId that have a duplicate raw is 773192."
      ]
    },
    {
      "cell_type": "markdown",
      "metadata": {
        "id": "v-Nj8bKNDvwN",
        "colab_type": "text"
      },
      "source": [
        "Checking the duplicate rows"
      ]
    },
    {
      "cell_type": "code",
      "metadata": {
        "id": "o2z8ApAYDp0-",
        "colab_type": "code",
        "colab": {
          "base_uri": "https://localhost:8080/",
          "height": 111
        },
        "outputId": "2368aa01-0bce-40db-a00e-625146cc468f"
      },
      "source": [
        "df2.query('user_id == 773192')"
      ],
      "execution_count": 45,
      "outputs": [
        {
          "output_type": "execute_result",
          "data": {
            "text/html": [
              "<div>\n",
              "<style scoped>\n",
              "    .dataframe tbody tr th:only-of-type {\n",
              "        vertical-align: middle;\n",
              "    }\n",
              "\n",
              "    .dataframe tbody tr th {\n",
              "        vertical-align: top;\n",
              "    }\n",
              "\n",
              "    .dataframe thead th {\n",
              "        text-align: right;\n",
              "    }\n",
              "</style>\n",
              "<table border=\"1\" class=\"dataframe\">\n",
              "  <thead>\n",
              "    <tr style=\"text-align: right;\">\n",
              "      <th></th>\n",
              "      <th>user_id</th>\n",
              "      <th>timestamp</th>\n",
              "      <th>group</th>\n",
              "      <th>landing_page</th>\n",
              "      <th>converted</th>\n",
              "    </tr>\n",
              "  </thead>\n",
              "  <tbody>\n",
              "    <tr>\n",
              "      <th>1899</th>\n",
              "      <td>773192</td>\n",
              "      <td>2017-01-09 05:37:58.781806</td>\n",
              "      <td>treatment</td>\n",
              "      <td>new_page</td>\n",
              "      <td>0</td>\n",
              "    </tr>\n",
              "    <tr>\n",
              "      <th>2893</th>\n",
              "      <td>773192</td>\n",
              "      <td>2017-01-14 02:55:59.590927</td>\n",
              "      <td>treatment</td>\n",
              "      <td>new_page</td>\n",
              "      <td>0</td>\n",
              "    </tr>\n",
              "  </tbody>\n",
              "</table>\n",
              "</div>"
            ],
            "text/plain": [
              "      user_id                   timestamp      group landing_page  converted\n",
              "1899   773192  2017-01-09 05:37:58.781806  treatment     new_page          0\n",
              "2893   773192  2017-01-14 02:55:59.590927  treatment     new_page          0"
            ]
          },
          "metadata": {
            "tags": []
          },
          "execution_count": 45
        }
      ]
    },
    {
      "cell_type": "markdown",
      "metadata": {
        "id": "E6Vdwa1_D_pb",
        "colab_type": "text"
      },
      "source": [
        "Now we want to drop the duplicate data "
      ]
    },
    {
      "cell_type": "code",
      "metadata": {
        "id": "iT_ymPuSEDje",
        "colab_type": "code",
        "colab": {
          "base_uri": "https://localhost:8080/",
          "height": 34
        },
        "outputId": "63742673-3587-4325-96a3-360c528779be"
      },
      "source": [
        "df2 = df2.drop(df2.query('user_id == 773192 and timestamp == \"2017-01-09 05:37:58.781806\"').index)\n",
        "df2.user_id.duplicated().sum()"
      ],
      "execution_count": 46,
      "outputs": [
        {
          "output_type": "execute_result",
          "data": {
            "text/plain": [
              "0"
            ]
          },
          "metadata": {
            "tags": []
          },
          "execution_count": 46
        }
      ]
    },
    {
      "cell_type": "markdown",
      "metadata": {
        "id": "Iqo8_0jFGzQ4",
        "colab_type": "text"
      },
      "source": [
        ""
      ]
    },
    {
      "cell_type": "markdown",
      "metadata": {
        "id": "70YDhSBc1Sl7",
        "colab_type": "text"
      },
      "source": [
        "#### Probability Converting"
      ]
    },
    {
      "cell_type": "code",
      "metadata": {
        "id": "BZ5gwxil04Q7",
        "colab_type": "code",
        "colab": {
          "base_uri": "https://localhost:8080/",
          "height": 34
        },
        "outputId": "5894c6ee-9f61-417f-e2e5-5be928e4739d"
      },
      "source": [
        "# Probability of Individual Converting by the Page Received\n",
        "df_prob =df2.query('converted == 1').user_id.nunique()/df2.user_id.nunique()\n",
        "df_prob\n",
        "\n",
        "print(\"The probability of an individual converting regardless of the page they receive is {0:.2%}\".format(df_prob))"
      ],
      "execution_count": 47,
      "outputs": [
        {
          "output_type": "stream",
          "text": [
            "The probability of an individual converting regardless of the page they receive is 11.96%\n"
          ],
          "name": "stdout"
        }
      ]
    },
    {
      "cell_type": "code",
      "metadata": {
        "id": "aJyznyyzFD3x",
        "colab_type": "code",
        "colab": {
          "base_uri": "https://localhost:8080/",
          "height": 34
        },
        "outputId": "66b00bbb-0a13-40f5-81f1-f1f962287217"
      },
      "source": [
        "# Probabilty user was in the CONTROL group to convert\n",
        "p_cont = df2.query('converted == 1 and group == \"control\"').user_id.nunique() \\\n",
        "/df2.query('group == \"control\"').user_id.nunique()\n",
        "\n",
        "print(\"The probability they converted based on control group is {0:.2%}\".format(p_cont))"
      ],
      "execution_count": 48,
      "outputs": [
        {
          "output_type": "stream",
          "text": [
            "The probability they converted based on control group is 12.04%\n"
          ],
          "name": "stdout"
        }
      ]
    },
    {
      "cell_type": "code",
      "metadata": {
        "id": "gWiDIQ3EFZzp",
        "colab_type": "code",
        "colab": {
          "base_uri": "https://localhost:8080/",
          "height": 34
        },
        "outputId": "fa92fc4f-fe63-4d16-f53e-82eddb3ce301"
      },
      "source": [
        "#Probabilty user was in the TREATMENT group to convert\n",
        "p_treat = df2.query('converted == 1 and group == \"treatment\"').user_id.nunique() \\\n",
        "/df2.query('group == \"treatment\"').user_id.nunique()\n",
        "\n",
        "print(\"The probability they converted based on treatment group is {0:.2%}\".format(p_treat))"
      ],
      "execution_count": 49,
      "outputs": [
        {
          "output_type": "stream",
          "text": [
            "The probability they converted based on treatment group is 11.88%\n"
          ],
          "name": "stdout"
        }
      ]
    },
    {
      "cell_type": "code",
      "metadata": {
        "id": "l6up7xxxFuDu",
        "colab_type": "code",
        "colab": {
          "base_uri": "https://localhost:8080/",
          "height": 34
        },
        "outputId": "6260cbcf-e119-4075-97e0-fcbd71f018c9"
      },
      "source": [
        "# Calculate the probabilty that an individual received the new page\n",
        "p_n = df2.query('landing_page == \"new_page\"').user_id.nunique()/df2.user_id.nunique()\n",
        "#The probability that an individual received the new page is 50.00%\n",
        "print(\"The probability that an individual received the new page is {0:.2%}\".format(p_n))"
      ],
      "execution_count": 50,
      "outputs": [
        {
          "output_type": "stream",
          "text": [
            "The probability that an individual received the new page is 50.01%\n"
          ],
          "name": "stdout"
        }
      ]
    },
    {
      "cell_type": "markdown",
      "metadata": {
        "id": "SLxfrxwTF1eq",
        "colab_type": "text"
      },
      "source": [
        "By this probability converting, there was **insufficient evidence  that the new treatment page leads to more conversions than the control page.** Because The difference of probability between control (12.04%) and treatment groups (11.88%) is tiny, especially when we compare them with the probability of individual conversion (11.96%)"
      ]
    },
    {
      "cell_type": "markdown",
      "metadata": {
        "id": "mc3T-4Fe15yz",
        "colab_type": "text"
      },
      "source": [
        "## A/B Testing\n",
        "\n",
        "Since the data still have an insufficient evidence that means the new treatment page leads to more conversions than the control page with probability tests,there will be a hypothesis test continuously as each observation was observed with the time stamp associated with each event."
      ]
    },
    {
      "cell_type": "markdown",
      "metadata": {
        "id": "HBSKrlXmH6TL",
        "colab_type": "text"
      },
      "source": [
        "### Hypothesis\n",
        "\n",
        "assume that the old page is better unless the new page proves to be definitely better at a Type I error rate of 5%. The null and alternative hypothesis follow below:\n",
        "\n",
        "\n",
        "* $H_{0}$: $p_{old}$ >= $p_{new}$\n",
        "* $H_{1}$: $p_{old}$ < $p_{new}$\n"
      ]
    },
    {
      "cell_type": "markdown",
      "metadata": {
        "id": "TTm85dCmJ6TV",
        "colab_type": "text"
      },
      "source": [
        "Assume under the null hypothesis, $p_{new}$ and $p_{old}$ both have \"true\" success rates equal to the **converted** success rate regardless of page - that is $p_{new}$ and $p_{old}$ are equal. Furthermore, assume they are equal to the **converted** rate in **ab_data.csv** regardless of the page. <br><br>\n",
        "\n",
        "this process use a sample size for each page equal to the ones in **ab_data.csv**.  <br><br>\n",
        "\n",
        "Perform the sampling distribution for the difference in **converted** between the two pages over 10,000 iterations of calculating an estimate from the null.  <br><br>"
      ]
    },
    {
      "cell_type": "code",
      "metadata": {
        "id": "bv1BFIUcF1H3",
        "colab_type": "code",
        "colab": {
          "base_uri": "https://localhost:8080/",
          "height": 51
        },
        "outputId": "907ee427-cccd-4c97-ceb9-88f55e771b18"
      },
      "source": [
        "p_new = df2.converted.mean()\n",
        "print(\"The convert rate for p_new under the null is {0:.4}\".format(p_new))\n",
        "p_old = df2.converted.mean()\n",
        "print(\"The convert rate for p_old under the null is {0:.4}\".format(p_old))"
      ],
      "execution_count": 51,
      "outputs": [
        {
          "output_type": "stream",
          "text": [
            "The convert rate for p_new under the null is 0.1196\n",
            "The convert rate for p_old under the null is 0.1196\n"
          ],
          "name": "stdout"
        }
      ]
    },
    {
      "cell_type": "markdown",
      "metadata": {
        "id": "wwR6_XiGKTl5",
        "colab_type": "text"
      },
      "source": [
        "Since P_new and P_old both have \"true\" success rates equally, their converted rate will have the same result."
      ]
    },
    {
      "cell_type": "markdown",
      "metadata": {
        "id": "HgFpStGFKrFk",
        "colab_type": "text"
      },
      "source": [
        "#### Total Unique Users"
      ]
    },
    {
      "cell_type": "code",
      "metadata": {
        "id": "9ZkrmodvKPfP",
        "colab_type": "code",
        "colab": {
          "base_uri": "https://localhost:8080/",
          "height": 34
        },
        "outputId": "0044f942-743a-47d3-d81a-e5e39053a39b"
      },
      "source": [
        "n_new = df2.query('landing_page == \"new_page\" ').count()[0]\n",
        "n_new"
      ],
      "execution_count": 52,
      "outputs": [
        {
          "output_type": "execute_result",
          "data": {
            "text/plain": [
              "145310"
            ]
          },
          "metadata": {
            "tags": []
          },
          "execution_count": 52
        }
      ]
    },
    {
      "cell_type": "markdown",
      "metadata": {
        "id": "s806d7cmK4G7",
        "colab_type": "text"
      },
      "source": [
        "Unique users with **new** design of landing page is 145.310 users"
      ]
    },
    {
      "cell_type": "code",
      "metadata": {
        "id": "5EIvrLXYK04i",
        "colab_type": "code",
        "colab": {
          "base_uri": "https://localhost:8080/",
          "height": 34
        },
        "outputId": "ea6e99b1-bdea-48da-b899-e0ebc8ea1814"
      },
      "source": [
        "n_old = df2.query('landing_page == \"old_page\" ').count()[0]\n",
        "n_old"
      ],
      "execution_count": 53,
      "outputs": [
        {
          "output_type": "execute_result",
          "data": {
            "text/plain": [
              "145274"
            ]
          },
          "metadata": {
            "tags": []
          },
          "execution_count": 53
        }
      ]
    },
    {
      "cell_type": "markdown",
      "metadata": {
        "id": "W9vLRTbDLYk-",
        "colab_type": "text"
      },
      "source": [
        "Unique users with **old** design of landing page is 145.274 users"
      ]
    },
    {
      "cell_type": "markdown",
      "metadata": {
        "id": "tU_y5ETcMEmt",
        "colab_type": "text"
      },
      "source": [
        "#### Make A Simoultanous Data"
      ]
    },
    {
      "cell_type": "code",
      "metadata": {
        "id": "QeQJotv4LSdM",
        "colab_type": "code",
        "colab": {
          "base_uri": "https://localhost:8080/",
          "height": 34
        },
        "outputId": "0c94b3ba-a58a-4b01-872e-05132f91945e"
      },
      "source": [
        "#Simulate n_new transactions with a convertion rate of  p_new under the null. \n",
        "#Store these n_new 1's and 0's in new_page_converted\n",
        "\n",
        "new_page_converted = np.random.choice([0,1],n_new, p=(p_new,1-p_new))\n",
        "new_page_converted"
      ],
      "execution_count": 54,
      "outputs": [
        {
          "output_type": "execute_result",
          "data": {
            "text/plain": [
              "array([1, 1, 1, ..., 0, 1, 1])"
            ]
          },
          "metadata": {
            "tags": []
          },
          "execution_count": 54
        }
      ]
    },
    {
      "cell_type": "code",
      "metadata": {
        "id": "ntUXXgooMI5t",
        "colab_type": "code",
        "colab": {
          "base_uri": "https://localhost:8080/",
          "height": 34
        },
        "outputId": "374bc3df-55ac-4e7c-a410-74365964bb48"
      },
      "source": [
        "#Simulate n_new transactions with a convert rate of  p_old under the null. \n",
        "#Store these  n_new 1's and 0's in old_page_converted\n",
        "\n",
        "old_page_converted = np.random.choice([0,1],n_old, p=(p_old,1-p_old))\n",
        "old_page_converted"
      ],
      "execution_count": 55,
      "outputs": [
        {
          "output_type": "execute_result",
          "data": {
            "text/plain": [
              "array([1, 0, 1, ..., 1, 1, 1])"
            ]
          },
          "metadata": {
            "tags": []
          },
          "execution_count": 55
        }
      ]
    },
    {
      "cell_type": "markdown",
      "metadata": {
        "id": "mxzFyaxwMTUu",
        "colab_type": "text"
      },
      "source": [
        "#### Converted Means\n",
        "\n",
        "Find the difference between p_new and p_old for discovering the difference between p_new and p_old, it is necessary to find out the mean of new_page_converted and old_page_converted"
      ]
    },
    {
      "cell_type": "code",
      "metadata": {
        "id": "KVi5fTzSMLtQ",
        "colab_type": "code",
        "colab": {
          "base_uri": "https://localhost:8080/",
          "height": 34
        },
        "outputId": "5a611bae-9186-49a4-e3ea-115c9f9e2949"
      },
      "source": [
        "new_page_converted.mean()"
      ],
      "execution_count": 56,
      "outputs": [
        {
          "output_type": "execute_result",
          "data": {
            "text/plain": [
              "0.8790929736425573"
            ]
          },
          "metadata": {
            "tags": []
          },
          "execution_count": 56
        }
      ]
    },
    {
      "cell_type": "code",
      "metadata": {
        "id": "S2MtKvRGMhph",
        "colab_type": "code",
        "colab": {
          "base_uri": "https://localhost:8080/",
          "height": 34
        },
        "outputId": "fa6979a3-7a03-4b4e-c2fd-4a6562f64f9a"
      },
      "source": [
        "old_page_converted.mean()"
      ],
      "execution_count": 57,
      "outputs": [
        {
          "output_type": "execute_result",
          "data": {
            "text/plain": [
              "0.8815548549637238"
            ]
          },
          "metadata": {
            "tags": []
          },
          "execution_count": 57
        }
      ]
    },
    {
      "cell_type": "code",
      "metadata": {
        "id": "Ub2V0j5vMnE0",
        "colab_type": "code",
        "colab": {
          "base_uri": "https://localhost:8080/",
          "height": 34
        },
        "outputId": "50130b7d-abf4-4acd-e566-878bedb1b227"
      },
      "source": [
        "#diff_conv is the difference between p_new and p_old.\n",
        "diff_conv = new_page_converted.mean() - old_page_converted.mean()\n",
        "diff_conv"
      ],
      "execution_count": 58,
      "outputs": [
        {
          "output_type": "execute_result",
          "data": {
            "text/plain": [
              "-0.002461881321166426"
            ]
          },
          "metadata": {
            "tags": []
          },
          "execution_count": 58
        }
      ]
    },
    {
      "cell_type": "markdown",
      "metadata": {
        "id": "AkFEzJZpNaAj",
        "colab_type": "text"
      },
      "source": [
        "The converted mean of old page is higher than converted mean of new page."
      ]
    },
    {
      "cell_type": "markdown",
      "metadata": {
        "id": "kS6XuaRtSvdx",
        "colab_type": "text"
      },
      "source": [
        "#### Simulate Data\n",
        "\n",
        "Simulate 10,000 p_new - p_old values with random binomial"
      ]
    },
    {
      "cell_type": "code",
      "metadata": {
        "id": "8caP9duKM2CW",
        "colab_type": "code",
        "colab": {
          "base_uri": "https://localhost:8080/",
          "height": 269
        },
        "outputId": "b88e0229-a0b0-494e-a456-a1899785befd"
      },
      "source": [
        "new_converted_simulation = np.random.binomial(n_new, p_new,  10000)/n_new\n",
        "old_converted_simulation = np.random.binomial(n_old, p_old,  10000)/n_old\n",
        "p_diffs = new_converted_simulation - old_converted_simulation\n",
        "p_diffs = np.array(p_diffs)\n",
        "plt.hist(p_diffs);"
      ],
      "execution_count": 61,
      "outputs": [
        {
          "output_type": "display_data",
          "data": {
            "image/png": "[encoded data removed]",
            "text/plain": [
              "<Figure size 432x288 with 1 Axes>"
            ]
          },
          "metadata": {
            "tags": []
          }
        }
      ]
    },
    {
      "cell_type": "markdown",
      "metadata": {
        "id": "kavMYBuIUgjA",
        "colab_type": "text"
      },
      "source": [
        "#### Actual difference observed"
      ]
    },
    {
      "cell_type": "code",
      "metadata": {
        "id": "4KC5g466TsLP",
        "colab_type": "code",
        "colab": {
          "base_uri": "https://localhost:8080/",
          "height": 34
        },
        "outputId": "cc065102-318d-4d93-cb23-b9b84c836409"
      },
      "source": [
        "new_convert = df2.query('converted == 1 and landing_page == \"new_page\"').count()[0]/n_new\n",
        "old_convert = df2.query('converted == 1 and landing_page == \"old_page\"').count()[0]/n_old\n",
        "obs_diff = new_convert - old_convert\n",
        "obs_diff"
      ],
      "execution_count": 62,
      "outputs": [
        {
          "output_type": "execute_result",
          "data": {
            "text/plain": [
              "-0.0015782389853555567"
            ]
          },
          "metadata": {
            "tags": []
          },
          "execution_count": 62
        }
      ]
    },
    {
      "cell_type": "markdown",
      "metadata": {
        "id": "FA3oSHmvU4yL",
        "colab_type": "text"
      },
      "source": [
        "#### Proportion Diffs\n",
        "Check the proportion of the p_diffs are greater than the actual difference observed in ab_data."
      ]
    },
    {
      "cell_type": "code",
      "metadata": {
        "id": "CTVQaQXaUnTQ",
        "colab_type": "code",
        "colab": {
          "base_uri": "https://localhost:8080/",
          "height": 286
        },
        "outputId": "e4c1b7cc-36d4-4c63-ff4f-a8e1ec11665e"
      },
      "source": [
        "null_vals = np.random.normal(0, p_diffs.std(), p_diffs.size)\n",
        "plt.hist(null_vals);\n",
        "plt.axvline(x=obs_diff, color='red')"
      ],
      "execution_count": 63,
      "outputs": [
        {
          "output_type": "execute_result",
          "data": {
            "text/plain": [
              "<matplotlib.lines.Line2D at 0x7efbde4056d8>"
            ]
          },
          "metadata": {
            "tags": []
          },
          "execution_count": 63
        },
        {
          "output_type": "display_data",
          "data": {
            "image/png": "[encoded data removed]",
            "text/plain": [
              "<Figure size 432x288 with 1 Axes>"
            ]
          },
          "metadata": {
            "tags": []
          }
        }
      ]
    },
    {
      "cell_type": "code",
      "metadata": {
        "id": "V5jVHJdDVIv9",
        "colab_type": "code",
        "colab": {
          "base_uri": "https://localhost:8080/",
          "height": 34
        },
        "outputId": "e274da2b-da73-4b2f-a609-eeabcea7aac6"
      },
      "source": [
        "(null_vals > obs_diff).mean()"
      ],
      "execution_count": 64,
      "outputs": [
        {
          "output_type": "execute_result",
          "data": {
            "text/plain": [
              "0.9008"
            ]
          },
          "metadata": {
            "tags": []
          },
          "execution_count": 64
        }
      ]
    },
    {
      "cell_type": "markdown",
      "metadata": {
        "id": "xqn-h-laVMap",
        "colab_type": "text"
      },
      "source": [
        "### Sampling Distribution Analysis\n",
        "\n",
        "- The proportion of the conversion rate differences (-0.0024) were greater than the actual observed difference (-0.0015). <br>\n",
        "The p-value is extremely large (90%) than the type I error rate (5%).That means we fail to reject the null hypothesis.\n",
        "\n",
        "- In this project, p-value is low (less then 5% = -0.0015), it suggests that the null hypothesis is not true, and it need to consider the alternative hypothesis. Finally, the p-value of 90.08% indicates that **the actual page should be maintained.**\n"
      ]
    },
    {
      "cell_type": "markdown",
      "metadata": {
        "id": "ynEEx5NWaf1E",
        "colab_type": "text"
      },
      "source": [
        "## Z-Test\n",
        "**stats.proportions_ztest** is used to compute my test statistic and p-value for evaluating if there is a statistically significance difference in conversion rates of the new page and the conversion rates of the old page.\n",
        "\n",
        "First, calculate the number of conversions for each page, as well as the number of individuals who received each page. The n_old and n_new refer the the number of rows associated with the old page and new pages, respectively."
      ]
    },
    {
      "cell_type": "code",
      "metadata": {
        "id": "ATNkxcDkVLpD",
        "colab_type": "code",
        "colab": {}
      },
      "source": [
        "convert_old = df2.query('converted == 1 and landing_page == \"old_page\"').count()[0]\n",
        "convert_new = df2.query('converted == 1 and landing_page == \"new_page\"').count()[0]\n",
        "n_old = df2.query('landing_page == \"old_page\" ').count()[0]\n",
        "n_new = df2.query('landing_page == \"new_page\" ').count()[0]"
      ],
      "execution_count": 0,
      "outputs": []
    },
    {
      "cell_type": "code",
      "metadata": {
        "id": "dGjUl00jdIMC",
        "colab_type": "code",
        "colab": {
          "base_uri": "https://localhost:8080/",
          "height": 34
        },
        "outputId": "092fcb37-b03a-460e-862c-ec943549761d"
      },
      "source": [
        "convert_old,convert_new,n_old,n_new"
      ],
      "execution_count": 66,
      "outputs": [
        {
          "output_type": "execute_result",
          "data": {
            "text/plain": [
              "(17489, 17264, 145274, 145310)"
            ]
          },
          "metadata": {
            "tags": []
          },
          "execution_count": 66
        }
      ]
    },
    {
      "cell_type": "code",
      "metadata": {
        "id": "reBTlZmQdMvU",
        "colab_type": "code",
        "colab": {}
      },
      "source": [
        "z_score, p_value = sm.stats.proportions_ztest(np.array([convert_new,convert_old]),\\\n",
        "                                              np.array([n_new,n_old]), alternative = 'larger')"
      ],
      "execution_count": 0,
      "outputs": []
    },
    {
      "cell_type": "code",
      "metadata": {
        "id": "o9gkwRRidVRj",
        "colab_type": "code",
        "colab": {
          "base_uri": "https://localhost:8080/",
          "height": 34
        },
        "outputId": "b906bdc5-2d9f-4d27-928c-44811c4d8ee5"
      },
      "source": [
        "z_score, p_value"
      ],
      "execution_count": 68,
      "outputs": [
        {
          "output_type": "execute_result",
          "data": {
            "text/plain": [
              "(-1.3109241984234394, 0.9050583127590245)"
            ]
          },
          "metadata": {
            "tags": []
          },
          "execution_count": 68
        }
      ]
    },
    {
      "cell_type": "code",
      "metadata": {
        "id": "9JY5g9kXdYRM",
        "colab_type": "code",
        "colab": {
          "base_uri": "https://localhost:8080/",
          "height": 34
        },
        "outputId": "95174f03-dc8a-4ca6-e9e2-836a031c46ab"
      },
      "source": [
        "norm.cdf(z_score)"
      ],
      "execution_count": 69,
      "outputs": [
        {
          "output_type": "execute_result",
          "data": {
            "text/plain": [
              "0.09494168724097551"
            ]
          },
          "metadata": {
            "tags": []
          },
          "execution_count": 69
        }
      ]
    },
    {
      "cell_type": "markdown",
      "metadata": {
        "id": "vGjvxURqdheU",
        "colab_type": "text"
      },
      "source": [
        "Significant z-score is 0.09494168724097551"
      ]
    },
    {
      "cell_type": "code",
      "metadata": {
        "id": "DIbq3y2adeHq",
        "colab_type": "code",
        "colab": {
          "base_uri": "https://localhost:8080/",
          "height": 34
        },
        "outputId": "850181f9-dc14-4c85-cf43-bc209033d6ad"
      },
      "source": [
        "norm.ppf(1-(0.05/2))"
      ],
      "execution_count": 70,
      "outputs": [
        {
          "output_type": "execute_result",
          "data": {
            "text/plain": [
              "1.959963984540054"
            ]
          },
          "metadata": {
            "tags": []
          },
          "execution_count": 70
        }
      ]
    },
    {
      "cell_type": "markdown",
      "metadata": {
        "id": "4ED1xRhjdzzg",
        "colab_type": "text"
      },
      "source": [
        "critical value at 95% confidence is 1.959963984540054"
      ]
    },
    {
      "cell_type": "markdown",
      "metadata": {
        "id": "KlN3zRDkd8cQ",
        "colab_type": "text"
      },
      "source": [
        "#### Z-test Anaylisis"
      ]
    },
    {
      "cell_type": "markdown",
      "metadata": {
        "id": "iRYYkhqxe2lB",
        "colab_type": "text"
      },
      "source": [
        "Since the z-score of 1.31 does not exceed the critical value of 1.96, **it fail to reject the null hypothesis.** <br> <br>\n",
        "**The conversion rates of the old page (17489) >= conversion rates of the new (17264).** <br>\n",
        "<br>\n",
        "Moreover, there was not a significant difference between the conversion rates of the new page and the conversion rates of the old page (>0.15%)."
      ]
    },
    {
      "cell_type": "code",
      "metadata": {
        "id": "tcE6ZdufdszT",
        "colab_type": "code",
        "colab": {}
      },
      "source": [
        ""
      ],
      "execution_count": 0,
      "outputs": []
    },
    {
      "cell_type": "markdown",
      "metadata": {
        "id": "RLAniJeQe2hP",
        "colab_type": "text"
      },
      "source": [
        "## Regression Aproach\n",
        "\n",
        "The result acheived in the previous A/B test can also be acheived by performing logistic regression that will use **statsmodels** to fit the regression model to see if there is a significant difference in conversion based on which page a customer receives."
      ]
    },
    {
      "cell_type": "code",
      "metadata": {
        "id": "0VXLN_pSgWap",
        "colab_type": "code",
        "colab": {
          "base_uri": "https://localhost:8080/",
          "height": 204
        },
        "outputId": "d0dba751-76c7-4915-e488-d3b378aeb01a"
      },
      "source": [
        "df2.head()"
      ],
      "execution_count": 71,
      "outputs": [
        {
          "output_type": "execute_result",
          "data": {
            "text/html": [
              "<div>\n",
              "<style scoped>\n",
              "    .dataframe tbody tr th:only-of-type {\n",
              "        vertical-align: middle;\n",
              "    }\n",
              "\n",
              "    .dataframe tbody tr th {\n",
              "        vertical-align: top;\n",
              "    }\n",
              "\n",
              "    .dataframe thead th {\n",
              "        text-align: right;\n",
              "    }\n",
              "</style>\n",
              "<table border=\"1\" class=\"dataframe\">\n",
              "  <thead>\n",
              "    <tr style=\"text-align: right;\">\n",
              "      <th></th>\n",
              "      <th>user_id</th>\n",
              "      <th>timestamp</th>\n",
              "      <th>group</th>\n",
              "      <th>landing_page</th>\n",
              "      <th>converted</th>\n",
              "    </tr>\n",
              "  </thead>\n",
              "  <tbody>\n",
              "    <tr>\n",
              "      <th>0</th>\n",
              "      <td>851104</td>\n",
              "      <td>2017-01-21 22:11:48.556739</td>\n",
              "      <td>control</td>\n",
              "      <td>old_page</td>\n",
              "      <td>0</td>\n",
              "    </tr>\n",
              "    <tr>\n",
              "      <th>1</th>\n",
              "      <td>804228</td>\n",
              "      <td>2017-01-12 08:01:45.159739</td>\n",
              "      <td>control</td>\n",
              "      <td>old_page</td>\n",
              "      <td>0</td>\n",
              "    </tr>\n",
              "    <tr>\n",
              "      <th>2</th>\n",
              "      <td>661590</td>\n",
              "      <td>2017-01-11 16:55:06.154213</td>\n",
              "      <td>treatment</td>\n",
              "      <td>new_page</td>\n",
              "      <td>0</td>\n",
              "    </tr>\n",
              "    <tr>\n",
              "      <th>3</th>\n",
              "      <td>853541</td>\n",
              "      <td>2017-01-08 18:28:03.143765</td>\n",
              "      <td>treatment</td>\n",
              "      <td>new_page</td>\n",
              "      <td>0</td>\n",
              "    </tr>\n",
              "    <tr>\n",
              "      <th>4</th>\n",
              "      <td>864975</td>\n",
              "      <td>2017-01-21 01:52:26.210827</td>\n",
              "      <td>control</td>\n",
              "      <td>old_page</td>\n",
              "      <td>1</td>\n",
              "    </tr>\n",
              "  </tbody>\n",
              "</table>\n",
              "</div>"
            ],
            "text/plain": [
              "   user_id                   timestamp      group landing_page  converted\n",
              "0   851104  2017-01-21 22:11:48.556739    control     old_page          0\n",
              "1   804228  2017-01-12 08:01:45.159739    control     old_page          0\n",
              "2   661590  2017-01-11 16:55:06.154213  treatment     new_page          0\n",
              "3   853541  2017-01-08 18:28:03.143765  treatment     new_page          0\n",
              "4   864975  2017-01-21 01:52:26.210827    control     old_page          1"
            ]
          },
          "metadata": {
            "tags": []
          },
          "execution_count": 71
        }
      ]
    },
    {
      "cell_type": "markdown",
      "metadata": {
        "id": "S4kmJ8mfhg6t",
        "colab_type": "text"
      },
      "source": [
        "### Create intercept and dummies columns"
      ]
    },
    {
      "cell_type": "code",
      "metadata": {
        "id": "t0CFR7YOgj-x",
        "colab_type": "code",
        "colab": {
          "base_uri": "https://localhost:8080/",
          "height": 204
        },
        "outputId": "12577ce0-5d26-4138-f42f-b2112626ddc3"
      },
      "source": [
        "df2['intercept'] = 1\n",
        "df2[['ab_page','old_page']] = pd.get_dummies(df2['landing_page'])\n",
        "df2 = df2.drop('old_page', axis = 1)\n",
        "df2.head()"
      ],
      "execution_count": 74,
      "outputs": [
        {
          "output_type": "execute_result",
          "data": {
            "text/html": [
              "<div>\n",
              "<style scoped>\n",
              "    .dataframe tbody tr th:only-of-type {\n",
              "        vertical-align: middle;\n",
              "    }\n",
              "\n",
              "    .dataframe tbody tr th {\n",
              "        vertical-align: top;\n",
              "    }\n",
              "\n",
              "    .dataframe thead th {\n",
              "        text-align: right;\n",
              "    }\n",
              "</style>\n",
              "<table border=\"1\" class=\"dataframe\">\n",
              "  <thead>\n",
              "    <tr style=\"text-align: right;\">\n",
              "      <th></th>\n",
              "      <th>user_id</th>\n",
              "      <th>timestamp</th>\n",
              "      <th>group</th>\n",
              "      <th>landing_page</th>\n",
              "      <th>converted</th>\n",
              "      <th>intercept</th>\n",
              "      <th>ab_page</th>\n",
              "    </tr>\n",
              "  </thead>\n",
              "  <tbody>\n",
              "    <tr>\n",
              "      <th>0</th>\n",
              "      <td>851104</td>\n",
              "      <td>2017-01-21 22:11:48.556739</td>\n",
              "      <td>control</td>\n",
              "      <td>old_page</td>\n",
              "      <td>0</td>\n",
              "      <td>1</td>\n",
              "      <td>0</td>\n",
              "    </tr>\n",
              "    <tr>\n",
              "      <th>1</th>\n",
              "      <td>804228</td>\n",
              "      <td>2017-01-12 08:01:45.159739</td>\n",
              "      <td>control</td>\n",
              "      <td>old_page</td>\n",
              "      <td>0</td>\n",
              "      <td>1</td>\n",
              "      <td>0</td>\n",
              "    </tr>\n",
              "    <tr>\n",
              "      <th>2</th>\n",
              "      <td>661590</td>\n",
              "      <td>2017-01-11 16:55:06.154213</td>\n",
              "      <td>treatment</td>\n",
              "      <td>new_page</td>\n",
              "      <td>0</td>\n",
              "      <td>1</td>\n",
              "      <td>1</td>\n",
              "    </tr>\n",
              "    <tr>\n",
              "      <th>3</th>\n",
              "      <td>853541</td>\n",
              "      <td>2017-01-08 18:28:03.143765</td>\n",
              "      <td>treatment</td>\n",
              "      <td>new_page</td>\n",
              "      <td>0</td>\n",
              "      <td>1</td>\n",
              "      <td>1</td>\n",
              "    </tr>\n",
              "    <tr>\n",
              "      <th>4</th>\n",
              "      <td>864975</td>\n",
              "      <td>2017-01-21 01:52:26.210827</td>\n",
              "      <td>control</td>\n",
              "      <td>old_page</td>\n",
              "      <td>1</td>\n",
              "      <td>1</td>\n",
              "      <td>0</td>\n",
              "    </tr>\n",
              "  </tbody>\n",
              "</table>\n",
              "</div>"
            ],
            "text/plain": [
              "   user_id                   timestamp  ... intercept ab_page\n",
              "0   851104  2017-01-21 22:11:48.556739  ...         1       0\n",
              "1   804228  2017-01-12 08:01:45.159739  ...         1       0\n",
              "2   661590  2017-01-11 16:55:06.154213  ...         1       1\n",
              "3   853541  2017-01-08 18:28:03.143765  ...         1       1\n",
              "4   864975  2017-01-21 01:52:26.210827  ...         1       0\n",
              "\n",
              "[5 rows x 7 columns]"
            ]
          },
          "metadata": {
            "tags": []
          },
          "execution_count": 74
        }
      ]
    },
    {
      "cell_type": "markdown",
      "metadata": {
        "id": "oa3rEyWthrzQ",
        "colab_type": "text"
      },
      "source": [
        "### Create a Model"
      ]
    },
    {
      "cell_type": "code",
      "metadata": {
        "id": "cCaVur_Vgobf",
        "colab_type": "code",
        "colab": {
          "base_uri": "https://localhost:8080/",
          "height": 299
        },
        "outputId": "fdb7d30c-3d54-4c3b-8311-0a27d8924f58"
      },
      "source": [
        "log = sm.Logit(df2['converted'], df2[['intercept', 'ab_page']])\n",
        "results = log.fit()\n",
        "results.summary()"
      ],
      "execution_count": 88,
      "outputs": [
        {
          "output_type": "stream",
          "text": [
            "Optimization terminated successfully.\n",
            "         Current function value: 0.366118\n",
            "         Iterations 6\n"
          ],
          "name": "stdout"
        },
        {
          "output_type": "execute_result",
          "data": {
            "text/html": [
              "<table class=\"simpletable\">\n",
              "<caption>Logit Regression Results</caption>\n",
              "<tr>\n",
              "  <th>Dep. Variable:</th>       <td>converted</td>    <th>  No. Observations:  </th>   <td>290584</td>   \n",
              "</tr>\n",
              "<tr>\n",
              "  <th>Model:</th>                 <td>Logit</td>      <th>  Df Residuals:      </th>   <td>290582</td>   \n",
              "</tr>\n",
              "<tr>\n",
              "  <th>Method:</th>                 <td>MLE</td>       <th>  Df Model:          </th>   <td>     1</td>   \n",
              "</tr>\n",
              "<tr>\n",
              "  <th>Date:</th>            <td>Thu, 19 Sep 2019</td> <th>  Pseudo R-squ.:     </th>  <td>8.077e-06</td> \n",
              "</tr>\n",
              "<tr>\n",
              "  <th>Time:</th>                <td>08:07:11</td>     <th>  Log-Likelihood:    </th> <td>-1.0639e+05</td>\n",
              "</tr>\n",
              "<tr>\n",
              "  <th>converged:</th>             <td>True</td>       <th>  LL-Null:           </th> <td>-1.0639e+05</td>\n",
              "</tr>\n",
              "<tr>\n",
              "  <th>Covariance Type:</th>     <td>nonrobust</td>    <th>  LLR p-value:       </th>   <td>0.1899</td>   \n",
              "</tr>\n",
              "</table>\n",
              "<table class=\"simpletable\">\n",
              "<tr>\n",
              "      <td></td>         <th>coef</th>     <th>std err</th>      <th>z</th>      <th>P>|z|</th>  <th>[0.025</th>    <th>0.975]</th>  \n",
              "</tr>\n",
              "<tr>\n",
              "  <th>intercept</th> <td>   -1.9888</td> <td>    0.008</td> <td> -246.669</td> <td> 0.000</td> <td>   -2.005</td> <td>   -1.973</td>\n",
              "</tr>\n",
              "<tr>\n",
              "  <th>ab_page</th>   <td>   -0.0150</td> <td>    0.011</td> <td>   -1.311</td> <td> 0.190</td> <td>   -0.037</td> <td>    0.007</td>\n",
              "</tr>\n",
              "</table>"
            ],
            "text/plain": [
              "<class 'statsmodels.iolib.summary.Summary'>\n",
              "\"\"\"\n",
              "                           Logit Regression Results                           \n",
              "==============================================================================\n",
              "Dep. Variable:              converted   No. Observations:               290584\n",
              "Model:                          Logit   Df Residuals:                   290582\n",
              "Method:                           MLE   Df Model:                            1\n",
              "Date:                Thu, 19 Sep 2019   Pseudo R-squ.:               8.077e-06\n",
              "Time:                        08:07:11   Log-Likelihood:            -1.0639e+05\n",
              "converged:                       True   LL-Null:                   -1.0639e+05\n",
              "Covariance Type:            nonrobust   LLR p-value:                    0.1899\n",
              "==============================================================================\n",
              "                 coef    std err          z      P>|z|      [0.025      0.975]\n",
              "------------------------------------------------------------------------------\n",
              "intercept     -1.9888      0.008   -246.669      0.000      -2.005      -1.973\n",
              "ab_page       -0.0150      0.011     -1.311      0.190      -0.037       0.007\n",
              "==============================================================================\n",
              "\"\"\""
            ]
          },
          "metadata": {
            "tags": []
          },
          "execution_count": 88
        }
      ]
    },
    {
      "cell_type": "markdown",
      "metadata": {
        "id": "H_ecA2WkmMJ2",
        "colab_type": "text"
      },
      "source": [
        "### Regression analysis \n",
        "The p-value associated with ab_page is 0.19 and the p-value in Part II was 0.90. So, in both cases, we fail to reject the null hyphothesis because these two p-values are greater than 0.05(Type Error I)."
      ]
    },
    {
      "cell_type": "markdown",
      "metadata": {
        "id": "_ERBfZEzr6-W",
        "colab_type": "text"
      },
      "source": [
        "## Conclusion"
      ]
    },
    {
      "cell_type": "markdown",
      "metadata": {
        "id": "Og3kWb8Er9fI",
        "colab_type": "text"
      },
      "source": [
        "Process that described in this notebook is based on a database providing details on the conversion rate of two groups(treatment group that holds the new page and control group that holds the old page), on an E-commerce platform from 2017-01-02 to 2017-01-24. The goal was to decide whether the E-commerce website should keep the old design or change to a new design for their landing page. <br>\n",
        "<br>\n",
        "Regarding the quality of the data, It only 1 row duplicated in a sample with 294,478 rows. So, that problem did not affect the results.<br>\n",
        "<br>\n",
        "To achieve the goal, we performed the following tests: A/B test with z-test and logistic regression models. <br>\n",
        "<br>\n",
        "* In A/B test, we found the p-value is higher than type error I, and because this, we fail to reject the null hyphotesis.<br>\n",
        "<br>\n",
        "* The z-score was 1.31 which does not exceed the critical value of 1.96, so we fail again to reject the null hyphothesis.<br>\n",
        "<br>\n",
        "\n",
        "**So the result shows to keep the old design of landing page because it fail to reject the null hypothesis.**"
      ]
    },
    {
      "cell_type": "code",
      "metadata": {
        "id": "rjxL6G-2r-Iz",
        "colab_type": "code",
        "colab": {}
      },
      "source": [
        ""
      ],
      "execution_count": 0,
      "outputs": []
    }
  ]
}