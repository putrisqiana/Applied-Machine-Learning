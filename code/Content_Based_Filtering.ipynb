{
  "nbformat": 4,
  "nbformat_minor": 0,
  "metadata": {
    "colab": {
      "name": "Content Based Filtering.ipynb",
      "provenance": []
    },
    "kernelspec": {
      "name": "python3",
      "display_name": "Python 3"
    }
  },
  "cells": [
    {
      "cell_type": "markdown",
      "metadata": {
        "id": "hknvGaFhPPru",
        "colab_type": "text"
      },
      "source": [
        "<h1 align=center><font size = 5>CONTENT-BASED FILTERING</font></h1>"
      ]
    },
    {
      "cell_type": "markdown",
      "metadata": {
        "id": "4bMYVlgvPVYv",
        "colab_type": "text"
      },
      "source": [
        "**Content-Based Filtering** is a technique attempts to figure out what a user's favourite aspects of an item is, and then recommends items that present those aspects. <br>\n",
        "<br>\n",
        "Collaborative Users is part of Recommendation System. <br>\n",
        "<br>\n",
        "**Recommendation systems** are a collection of algorithms used to recommend items to users based on information taken from the user.  <br>\n",
        "<br>\n",
        "In this case, we're going to try to figure out the input's favorite genres from the movies and ratings given.<br>\n",
        "<br>\n",
        "First step in this content-based filtering is same like others case to Import library that is needed for analyzing and processing the data."
      ]
    },
    {
      "cell_type": "code",
      "metadata": {
        "id": "Ism0HHwvOl3i",
        "colab_type": "code",
        "colab": {}
      },
      "source": [
        "import pandas as pd\n",
        "from math import sqrt\n",
        "import numpy as np\n",
        "import matplotlib.pyplot as plt\n",
        "%matplotlib inline"
      ],
      "execution_count": 0,
      "outputs": []
    },
    {
      "cell_type": "markdown",
      "metadata": {
        "id": "61VlpHVLRT7J",
        "colab_type": "text"
      },
      "source": [
        "## Data Description"
      ]
    },
    {
      "cell_type": "code",
      "metadata": {
        "id": "fLk94jbXP5iD",
        "colab_type": "code",
        "colab": {}
      },
      "source": [
        "movies_df = pd.read_csv('movie.csv', sep=\";\")\n",
        "ratings_df = pd.read_csv('ratings.csv', sep=\";\")"
      ],
      "execution_count": 0,
      "outputs": []
    },
    {
      "cell_type": "markdown",
      "metadata": {
        "id": "z6CgFt1pRbam",
        "colab_type": "text"
      },
      "source": [
        "### Movies Data"
      ]
    },
    {
      "cell_type": "code",
      "metadata": {
        "id": "_hqfFB07QEHL",
        "colab_type": "code",
        "colab": {
          "base_uri": "https://localhost:8080/",
          "height": 359
        },
        "outputId": "7ec9b253-11a2-4d1f-8f11-985a0aacb482"
      },
      "source": [
        "movies_df"
      ],
      "execution_count": 45,
      "outputs": [
        {
          "output_type": "execute_result",
          "data": {
            "text/html": [
              "<div>\n",
              "<style scoped>\n",
              "    .dataframe tbody tr th:only-of-type {\n",
              "        vertical-align: middle;\n",
              "    }\n",
              "\n",
              "    .dataframe tbody tr th {\n",
              "        vertical-align: top;\n",
              "    }\n",
              "\n",
              "    .dataframe thead th {\n",
              "        text-align: right;\n",
              "    }\n",
              "</style>\n",
              "<table border=\"1\" class=\"dataframe\">\n",
              "  <thead>\n",
              "    <tr style=\"text-align: right;\">\n",
              "      <th></th>\n",
              "      <th>MovieId</th>\n",
              "      <th>Title</th>\n",
              "      <th>Genres</th>\n",
              "    </tr>\n",
              "  </thead>\n",
              "  <tbody>\n",
              "    <tr>\n",
              "      <th>0</th>\n",
              "      <td>0</td>\n",
              "      <td>AADC 2</td>\n",
              "      <td>Drama|Romance</td>\n",
              "    </tr>\n",
              "    <tr>\n",
              "      <th>1</th>\n",
              "      <td>1</td>\n",
              "      <td>Gundala</td>\n",
              "      <td>Action|Crime|Drama</td>\n",
              "    </tr>\n",
              "    <tr>\n",
              "      <th>2</th>\n",
              "      <td>2</td>\n",
              "      <td>Dilan 1991</td>\n",
              "      <td>Drama|Romance</td>\n",
              "    </tr>\n",
              "    <tr>\n",
              "      <th>3</th>\n",
              "      <td>3</td>\n",
              "      <td>Bumi Manusia</td>\n",
              "      <td>Drama|History</td>\n",
              "    </tr>\n",
              "    <tr>\n",
              "      <th>4</th>\n",
              "      <td>4</td>\n",
              "      <td>Dua Garis Biru</td>\n",
              "      <td>Drama|Family</td>\n",
              "    </tr>\n",
              "    <tr>\n",
              "      <th>5</th>\n",
              "      <td>5</td>\n",
              "      <td>Avengers End Game</td>\n",
              "      <td>Action|Adventure|SciFi</td>\n",
              "    </tr>\n",
              "    <tr>\n",
              "      <th>6</th>\n",
              "      <td>6</td>\n",
              "      <td>The Lion King</td>\n",
              "      <td>Action|Adventure|Drama</td>\n",
              "    </tr>\n",
              "    <tr>\n",
              "      <th>7</th>\n",
              "      <td>7</td>\n",
              "      <td>Aladdin</td>\n",
              "      <td>Adventure|Family|Fantasy</td>\n",
              "    </tr>\n",
              "    <tr>\n",
              "      <th>8</th>\n",
              "      <td>8</td>\n",
              "      <td>Spiderman Far From Home</td>\n",
              "      <td>Action|Adventure|SciFi</td>\n",
              "    </tr>\n",
              "    <tr>\n",
              "      <th>9</th>\n",
              "      <td>9</td>\n",
              "      <td>Captain Marvel</td>\n",
              "      <td>Action|Adventure|SciFi</td>\n",
              "    </tr>\n",
              "  </tbody>\n",
              "</table>\n",
              "</div>"
            ],
            "text/plain": [
              "   MovieId                    Title                    Genres\n",
              "0        0                   AADC 2             Drama|Romance\n",
              "1        1                  Gundala        Action|Crime|Drama\n",
              "2        2               Dilan 1991             Drama|Romance\n",
              "3        3             Bumi Manusia             Drama|History\n",
              "4        4           Dua Garis Biru              Drama|Family\n",
              "5        5        Avengers End Game    Action|Adventure|SciFi\n",
              "6        6            The Lion King    Action|Adventure|Drama\n",
              "7        7                  Aladdin  Adventure|Family|Fantasy\n",
              "8        8  Spiderman Far From Home    Action|Adventure|SciFi\n",
              "9        9           Captain Marvel    Action|Adventure|SciFi"
            ]
          },
          "metadata": {
            "tags": []
          },
          "execution_count": 45
        }
      ]
    },
    {
      "cell_type": "markdown",
      "metadata": {
        "id": "7kaXe_ZgQUdK",
        "colab_type": "text"
      },
      "source": [
        "split the values in the __Genres__ column into a __list of Genres__ to simplify future use. This can be achieved by applying Python's split string function on the correct column."
      ]
    },
    {
      "cell_type": "code",
      "metadata": {
        "id": "B4QCHcmwQF4j",
        "colab_type": "code",
        "colab": {
          "base_uri": "https://localhost:8080/",
          "height": 359
        },
        "outputId": "5ef80884-67a7-41f6-d8ec-088c2ee1ef9e"
      },
      "source": [
        "#Every genre is separated by a | so we simply have to call the split function on |\n",
        "movies_df['Genres'] = movies_df.Genres.str.split('|')\n",
        "movies_df"
      ],
      "execution_count": 46,
      "outputs": [
        {
          "output_type": "execute_result",
          "data": {
            "text/html": [
              "<div>\n",
              "<style scoped>\n",
              "    .dataframe tbody tr th:only-of-type {\n",
              "        vertical-align: middle;\n",
              "    }\n",
              "\n",
              "    .dataframe tbody tr th {\n",
              "        vertical-align: top;\n",
              "    }\n",
              "\n",
              "    .dataframe thead th {\n",
              "        text-align: right;\n",
              "    }\n",
              "</style>\n",
              "<table border=\"1\" class=\"dataframe\">\n",
              "  <thead>\n",
              "    <tr style=\"text-align: right;\">\n",
              "      <th></th>\n",
              "      <th>MovieId</th>\n",
              "      <th>Title</th>\n",
              "      <th>Genres</th>\n",
              "    </tr>\n",
              "  </thead>\n",
              "  <tbody>\n",
              "    <tr>\n",
              "      <th>0</th>\n",
              "      <td>0</td>\n",
              "      <td>AADC 2</td>\n",
              "      <td>[Drama, Romance]</td>\n",
              "    </tr>\n",
              "    <tr>\n",
              "      <th>1</th>\n",
              "      <td>1</td>\n",
              "      <td>Gundala</td>\n",
              "      <td>[Action, Crime, Drama]</td>\n",
              "    </tr>\n",
              "    <tr>\n",
              "      <th>2</th>\n",
              "      <td>2</td>\n",
              "      <td>Dilan 1991</td>\n",
              "      <td>[Drama, Romance]</td>\n",
              "    </tr>\n",
              "    <tr>\n",
              "      <th>3</th>\n",
              "      <td>3</td>\n",
              "      <td>Bumi Manusia</td>\n",
              "      <td>[Drama, History]</td>\n",
              "    </tr>\n",
              "    <tr>\n",
              "      <th>4</th>\n",
              "      <td>4</td>\n",
              "      <td>Dua Garis Biru</td>\n",
              "      <td>[Drama, Family]</td>\n",
              "    </tr>\n",
              "    <tr>\n",
              "      <th>5</th>\n",
              "      <td>5</td>\n",
              "      <td>Avengers End Game</td>\n",
              "      <td>[Action, Adventure, SciFi]</td>\n",
              "    </tr>\n",
              "    <tr>\n",
              "      <th>6</th>\n",
              "      <td>6</td>\n",
              "      <td>The Lion King</td>\n",
              "      <td>[Action, Adventure, Drama]</td>\n",
              "    </tr>\n",
              "    <tr>\n",
              "      <th>7</th>\n",
              "      <td>7</td>\n",
              "      <td>Aladdin</td>\n",
              "      <td>[Adventure, Family, Fantasy]</td>\n",
              "    </tr>\n",
              "    <tr>\n",
              "      <th>8</th>\n",
              "      <td>8</td>\n",
              "      <td>Spiderman Far From Home</td>\n",
              "      <td>[Action, Adventure, SciFi]</td>\n",
              "    </tr>\n",
              "    <tr>\n",
              "      <th>9</th>\n",
              "      <td>9</td>\n",
              "      <td>Captain Marvel</td>\n",
              "      <td>[Action, Adventure, SciFi]</td>\n",
              "    </tr>\n",
              "  </tbody>\n",
              "</table>\n",
              "</div>"
            ],
            "text/plain": [
              "   MovieId                    Title                        Genres\n",
              "0        0                   AADC 2              [Drama, Romance]\n",
              "1        1                  Gundala        [Action, Crime, Drama]\n",
              "2        2               Dilan 1991              [Drama, Romance]\n",
              "3        3             Bumi Manusia              [Drama, History]\n",
              "4        4           Dua Garis Biru               [Drama, Family]\n",
              "5        5        Avengers End Game    [Action, Adventure, SciFi]\n",
              "6        6            The Lion King    [Action, Adventure, Drama]\n",
              "7        7                  Aladdin  [Adventure, Family, Fantasy]\n",
              "8        8  Spiderman Far From Home    [Action, Adventure, SciFi]\n",
              "9        9           Captain Marvel    [Action, Adventure, SciFi]"
            ]
          },
          "metadata": {
            "tags": []
          },
          "execution_count": 46
        }
      ]
    },
    {
      "cell_type": "markdown",
      "metadata": {
        "id": "4xtHlJs9Qoxl",
        "colab_type": "text"
      },
      "source": [
        "Genres in a list format isn't optimal for the content-based recommendation system technique. So It needed to use the **One Hot Encoding technique** to convert the list of genres to a vector where each column corresponds to one possible value of the feature. This encoding is needed for feeding categorical data. \n",
        "\n",
        "In this case, store every different genre in columns that contain either 1 or 0. 1 shows that a movie has that genre and 0 shows that it doesn't. Let's also store this dataframe in another variable since genres won't be important for the first recommendation system."
      ]
    },
    {
      "cell_type": "code",
      "metadata": {
        "id": "QyqsIid5QZsI",
        "colab_type": "code",
        "colab": {
          "base_uri": "https://localhost:8080/",
          "height": 255
        },
        "outputId": "a9ec462b-9bda-46df-adb8-e3c8971d8f95"
      },
      "source": [
        "#Copying the movie dataframe into a new one since we won't need to use the genre information in our first case.\n",
        "moviesWithGenres_df = movies_df.copy()\n",
        "\n",
        "#For every row in the dataframe, iterate through the list of genres and place a 1 into the corresponding column\n",
        "for index, row in movies_df.iterrows():\n",
        "    for Genre in row['Genres']:\n",
        "        moviesWithGenres_df.at[index, Genre] = 1\n",
        "#Filling in the NaN values with 0 to show that a movie doesn't have that column's genre\n",
        "moviesWithGenres_df = moviesWithGenres_df.fillna(0)\n",
        "moviesWithGenres_df.head()"
      ],
      "execution_count": 47,
      "outputs": [
        {
          "output_type": "execute_result",
          "data": {
            "text/html": [
              "<div>\n",
              "<style scoped>\n",
              "    .dataframe tbody tr th:only-of-type {\n",
              "        vertical-align: middle;\n",
              "    }\n",
              "\n",
              "    .dataframe tbody tr th {\n",
              "        vertical-align: top;\n",
              "    }\n",
              "\n",
              "    .dataframe thead th {\n",
              "        text-align: right;\n",
              "    }\n",
              "</style>\n",
              "<table border=\"1\" class=\"dataframe\">\n",
              "  <thead>\n",
              "    <tr style=\"text-align: right;\">\n",
              "      <th></th>\n",
              "      <th>MovieId</th>\n",
              "      <th>Title</th>\n",
              "      <th>Genres</th>\n",
              "      <th>Drama</th>\n",
              "      <th>Romance</th>\n",
              "      <th>Action</th>\n",
              "      <th>Crime</th>\n",
              "      <th>History</th>\n",
              "      <th>Family</th>\n",
              "      <th>Adventure</th>\n",
              "      <th>SciFi</th>\n",
              "      <th>Fantasy</th>\n",
              "    </tr>\n",
              "  </thead>\n",
              "  <tbody>\n",
              "    <tr>\n",
              "      <th>0</th>\n",
              "      <td>0</td>\n",
              "      <td>AADC 2</td>\n",
              "      <td>[Drama, Romance]</td>\n",
              "      <td>1.0</td>\n",
              "      <td>1.0</td>\n",
              "      <td>0.0</td>\n",
              "      <td>0.0</td>\n",
              "      <td>0.0</td>\n",
              "      <td>0.0</td>\n",
              "      <td>0.0</td>\n",
              "      <td>0.0</td>\n",
              "      <td>0.0</td>\n",
              "    </tr>\n",
              "    <tr>\n",
              "      <th>1</th>\n",
              "      <td>1</td>\n",
              "      <td>Gundala</td>\n",
              "      <td>[Action, Crime, Drama]</td>\n",
              "      <td>1.0</td>\n",
              "      <td>0.0</td>\n",
              "      <td>1.0</td>\n",
              "      <td>1.0</td>\n",
              "      <td>0.0</td>\n",
              "      <td>0.0</td>\n",
              "      <td>0.0</td>\n",
              "      <td>0.0</td>\n",
              "      <td>0.0</td>\n",
              "    </tr>\n",
              "    <tr>\n",
              "      <th>2</th>\n",
              "      <td>2</td>\n",
              "      <td>Dilan 1991</td>\n",
              "      <td>[Drama, Romance]</td>\n",
              "      <td>1.0</td>\n",
              "      <td>1.0</td>\n",
              "      <td>0.0</td>\n",
              "      <td>0.0</td>\n",
              "      <td>0.0</td>\n",
              "      <td>0.0</td>\n",
              "      <td>0.0</td>\n",
              "      <td>0.0</td>\n",
              "      <td>0.0</td>\n",
              "    </tr>\n",
              "    <tr>\n",
              "      <th>3</th>\n",
              "      <td>3</td>\n",
              "      <td>Bumi Manusia</td>\n",
              "      <td>[Drama, History]</td>\n",
              "      <td>1.0</td>\n",
              "      <td>0.0</td>\n",
              "      <td>0.0</td>\n",
              "      <td>0.0</td>\n",
              "      <td>1.0</td>\n",
              "      <td>0.0</td>\n",
              "      <td>0.0</td>\n",
              "      <td>0.0</td>\n",
              "      <td>0.0</td>\n",
              "    </tr>\n",
              "    <tr>\n",
              "      <th>4</th>\n",
              "      <td>4</td>\n",
              "      <td>Dua Garis Biru</td>\n",
              "      <td>[Drama, Family]</td>\n",
              "      <td>1.0</td>\n",
              "      <td>0.0</td>\n",
              "      <td>0.0</td>\n",
              "      <td>0.0</td>\n",
              "      <td>0.0</td>\n",
              "      <td>1.0</td>\n",
              "      <td>0.0</td>\n",
              "      <td>0.0</td>\n",
              "      <td>0.0</td>\n",
              "    </tr>\n",
              "  </tbody>\n",
              "</table>\n",
              "</div>"
            ],
            "text/plain": [
              "   MovieId           Title                  Genres  ...  Adventure  SciFi  Fantasy\n",
              "0        0          AADC 2        [Drama, Romance]  ...        0.0    0.0      0.0\n",
              "1        1         Gundala  [Action, Crime, Drama]  ...        0.0    0.0      0.0\n",
              "2        2      Dilan 1991        [Drama, Romance]  ...        0.0    0.0      0.0\n",
              "3        3    Bumi Manusia        [Drama, History]  ...        0.0    0.0      0.0\n",
              "4        4  Dua Garis Biru         [Drama, Family]  ...        0.0    0.0      0.0\n",
              "\n",
              "[5 rows x 12 columns]"
            ]
          },
          "metadata": {
            "tags": []
          },
          "execution_count": 47
        }
      ]
    },
    {
      "cell_type": "markdown",
      "metadata": {
        "id": "-v-bPv3aRfmi",
        "colab_type": "text"
      },
      "source": [
        "### Ratings Data"
      ]
    },
    {
      "cell_type": "code",
      "metadata": {
        "id": "MWFDF4JxRLMu",
        "colab_type": "code",
        "colab": {
          "base_uri": "https://localhost:8080/",
          "height": 204
        },
        "outputId": "6af8c439-4b50-432a-bf3c-25e0041c6fb0"
      },
      "source": [
        "ratings_df.head()"
      ],
      "execution_count": 48,
      "outputs": [
        {
          "output_type": "execute_result",
          "data": {
            "text/html": [
              "<div>\n",
              "<style scoped>\n",
              "    .dataframe tbody tr th:only-of-type {\n",
              "        vertical-align: middle;\n",
              "    }\n",
              "\n",
              "    .dataframe tbody tr th {\n",
              "        vertical-align: top;\n",
              "    }\n",
              "\n",
              "    .dataframe thead th {\n",
              "        text-align: right;\n",
              "    }\n",
              "</style>\n",
              "<table border=\"1\" class=\"dataframe\">\n",
              "  <thead>\n",
              "    <tr style=\"text-align: right;\">\n",
              "      <th></th>\n",
              "      <th>UserId</th>\n",
              "      <th>Name</th>\n",
              "      <th>MovieId</th>\n",
              "      <th>Title</th>\n",
              "      <th>Ratings</th>\n",
              "    </tr>\n",
              "  </thead>\n",
              "  <tbody>\n",
              "    <tr>\n",
              "      <th>0</th>\n",
              "      <td>1</td>\n",
              "      <td>Hania</td>\n",
              "      <td>0</td>\n",
              "      <td>AADC 2</td>\n",
              "      <td>3</td>\n",
              "    </tr>\n",
              "    <tr>\n",
              "      <th>1</th>\n",
              "      <td>1</td>\n",
              "      <td>Hania</td>\n",
              "      <td>1</td>\n",
              "      <td>Gundala</td>\n",
              "      <td>5</td>\n",
              "    </tr>\n",
              "    <tr>\n",
              "      <th>2</th>\n",
              "      <td>1</td>\n",
              "      <td>Hania</td>\n",
              "      <td>2</td>\n",
              "      <td>Dilan 1991</td>\n",
              "      <td>4</td>\n",
              "    </tr>\n",
              "    <tr>\n",
              "      <th>3</th>\n",
              "      <td>1</td>\n",
              "      <td>Hania</td>\n",
              "      <td>3</td>\n",
              "      <td>Bumi Manusia</td>\n",
              "      <td>4</td>\n",
              "    </tr>\n",
              "    <tr>\n",
              "      <th>4</th>\n",
              "      <td>1</td>\n",
              "      <td>Hania</td>\n",
              "      <td>4</td>\n",
              "      <td>Dua Garis Biru</td>\n",
              "      <td>4</td>\n",
              "    </tr>\n",
              "  </tbody>\n",
              "</table>\n",
              "</div>"
            ],
            "text/plain": [
              "   UserId   Name  MovieId           Title  Ratings\n",
              "0       1  Hania        0          AADC 2        3\n",
              "1       1  Hania        1         Gundala        5\n",
              "2       1  Hania        2      Dilan 1991        4\n",
              "3       1  Hania        3    Bumi Manusia        4\n",
              "4       1  Hania        4  Dua Garis Biru        4"
            ]
          },
          "metadata": {
            "tags": []
          },
          "execution_count": 48
        }
      ]
    },
    {
      "cell_type": "markdown",
      "metadata": {
        "id": "Ie8T3sJQRooX",
        "colab_type": "text"
      },
      "source": [
        "In ratings dataframe, there was an input from a user by the movie that they already watch. <br>\n",
        "So, there was a feature UserId and Name of the User, MovieId and Tittle of Movie, and How they give a ratings for the Movie."
      ]
    },
    {
      "cell_type": "markdown",
      "metadata": {
        "id": "juzY7OH0Rs4o",
        "colab_type": "text"
      },
      "source": [
        "## Content Based Filtering"
      ]
    },
    {
      "cell_type": "markdown",
      "metadata": {
        "id": "YyGlXh20R2yt",
        "colab_type": "text"
      },
      "source": [
        "### Input User\n",
        "\n",
        "This is the new data as a new movie reviewers. By this data, **we want to know what is the other movie that this user need to watch.**"
      ]
    },
    {
      "cell_type": "code",
      "metadata": {
        "id": "SmweBYlIRk7d",
        "colab_type": "code",
        "colab": {
          "base_uri": "https://localhost:8080/",
          "height": 204
        },
        "outputId": "44ef1f7d-20aa-42d2-dd04-340eb0583ee8"
      },
      "source": [
        "userInput = [\n",
        "            {'Title':'AADC 2', 'Ratings':3},\n",
        "            {'Title':'Dilan 1991', 'Ratings':2},\n",
        "            {'Title':'Dua Garis Biru', 'Ratings':4},\n",
        "            {'Title':'Avengers End Game', 'Ratings':5},\n",
        "            {'Title':'Captain Marvel', 'Ratings':3}\n",
        "         ] \n",
        "inputMovies = pd.DataFrame(userInput)\n",
        "inputMovies"
      ],
      "execution_count": 49,
      "outputs": [
        {
          "output_type": "execute_result",
          "data": {
            "text/html": [
              "<div>\n",
              "<style scoped>\n",
              "    .dataframe tbody tr th:only-of-type {\n",
              "        vertical-align: middle;\n",
              "    }\n",
              "\n",
              "    .dataframe tbody tr th {\n",
              "        vertical-align: top;\n",
              "    }\n",
              "\n",
              "    .dataframe thead th {\n",
              "        text-align: right;\n",
              "    }\n",
              "</style>\n",
              "<table border=\"1\" class=\"dataframe\">\n",
              "  <thead>\n",
              "    <tr style=\"text-align: right;\">\n",
              "      <th></th>\n",
              "      <th>Ratings</th>\n",
              "      <th>Title</th>\n",
              "    </tr>\n",
              "  </thead>\n",
              "  <tbody>\n",
              "    <tr>\n",
              "      <th>0</th>\n",
              "      <td>3</td>\n",
              "      <td>AADC 2</td>\n",
              "    </tr>\n",
              "    <tr>\n",
              "      <th>1</th>\n",
              "      <td>2</td>\n",
              "      <td>Dilan 1991</td>\n",
              "    </tr>\n",
              "    <tr>\n",
              "      <th>2</th>\n",
              "      <td>4</td>\n",
              "      <td>Dua Garis Biru</td>\n",
              "    </tr>\n",
              "    <tr>\n",
              "      <th>3</th>\n",
              "      <td>5</td>\n",
              "      <td>Avengers End Game</td>\n",
              "    </tr>\n",
              "    <tr>\n",
              "      <th>4</th>\n",
              "      <td>3</td>\n",
              "      <td>Captain Marvel</td>\n",
              "    </tr>\n",
              "  </tbody>\n",
              "</table>\n",
              "</div>"
            ],
            "text/plain": [
              "   Ratings              Title\n",
              "0        3             AADC 2\n",
              "1        2         Dilan 1991\n",
              "2        4     Dua Garis Biru\n",
              "3        5  Avengers End Game\n",
              "4        3     Captain Marvel"
            ]
          },
          "metadata": {
            "tags": []
          },
          "execution_count": 49
        }
      ]
    },
    {
      "cell_type": "markdown",
      "metadata": {
        "id": "tyfCiYlKSYVh",
        "colab_type": "text"
      },
      "source": [
        "### Add MovieId to input user\n",
        "First step after inputing the data of new user is extract the input movies's ID's from the movies dataframe and add them into it.\n",
        "\n",
        "We can achieve this by first filtering out the rows that contain the input movies' title and then merging this subset with the input dataframe."
      ]
    },
    {
      "cell_type": "code",
      "metadata": {
        "id": "AhgRgMTzSLg5",
        "colab_type": "code",
        "colab": {
          "base_uri": "https://localhost:8080/",
          "height": 204
        },
        "outputId": "99f889a0-a745-45b1-b607-1484e1f8067d"
      },
      "source": [
        "#Filtering out the movies by title\n",
        "inputId = movies_df[movies_df['Title'].isin(inputMovies['Title'].tolist())]\n",
        "#Then merging it so we can get the movieId. It's implicitly merging it by title.\n",
        "inputMovies = pd.merge(inputId, inputMovies)\n",
        "inputMovies = inputMovies.drop(columns=['Genres'])\n",
        "inputMovies"
      ],
      "execution_count": 50,
      "outputs": [
        {
          "output_type": "execute_result",
          "data": {
            "text/html": [
              "<div>\n",
              "<style scoped>\n",
              "    .dataframe tbody tr th:only-of-type {\n",
              "        vertical-align: middle;\n",
              "    }\n",
              "\n",
              "    .dataframe tbody tr th {\n",
              "        vertical-align: top;\n",
              "    }\n",
              "\n",
              "    .dataframe thead th {\n",
              "        text-align: right;\n",
              "    }\n",
              "</style>\n",
              "<table border=\"1\" class=\"dataframe\">\n",
              "  <thead>\n",
              "    <tr style=\"text-align: right;\">\n",
              "      <th></th>\n",
              "      <th>MovieId</th>\n",
              "      <th>Title</th>\n",
              "      <th>Ratings</th>\n",
              "    </tr>\n",
              "  </thead>\n",
              "  <tbody>\n",
              "    <tr>\n",
              "      <th>0</th>\n",
              "      <td>0</td>\n",
              "      <td>AADC 2</td>\n",
              "      <td>3</td>\n",
              "    </tr>\n",
              "    <tr>\n",
              "      <th>1</th>\n",
              "      <td>2</td>\n",
              "      <td>Dilan 1991</td>\n",
              "      <td>2</td>\n",
              "    </tr>\n",
              "    <tr>\n",
              "      <th>2</th>\n",
              "      <td>4</td>\n",
              "      <td>Dua Garis Biru</td>\n",
              "      <td>4</td>\n",
              "    </tr>\n",
              "    <tr>\n",
              "      <th>3</th>\n",
              "      <td>5</td>\n",
              "      <td>Avengers End Game</td>\n",
              "      <td>5</td>\n",
              "    </tr>\n",
              "    <tr>\n",
              "      <th>4</th>\n",
              "      <td>9</td>\n",
              "      <td>Captain Marvel</td>\n",
              "      <td>3</td>\n",
              "    </tr>\n",
              "  </tbody>\n",
              "</table>\n",
              "</div>"
            ],
            "text/plain": [
              "   MovieId              Title  Ratings\n",
              "0        0             AADC 2        3\n",
              "1        2         Dilan 1991        2\n",
              "2        4     Dua Garis Biru        4\n",
              "3        5  Avengers End Game        5\n",
              "4        9     Captain Marvel        3"
            ]
          },
          "metadata": {
            "tags": []
          },
          "execution_count": 50
        }
      ]
    },
    {
      "cell_type": "markdown",
      "metadata": {
        "id": "scujwrUCTzrF",
        "colab_type": "text"
      },
      "source": [
        "It start by learning the input's preferences, the it need to get the subset of movies that the input has watched from the Dataframe containing genres defined with binary values."
      ]
    },
    {
      "cell_type": "code",
      "metadata": {
        "id": "imkBuEDdSeh3",
        "colab_type": "code",
        "colab": {
          "base_uri": "https://localhost:8080/",
          "height": 272
        },
        "outputId": "707aa47b-ffa6-4397-c222-0e58bef2227d"
      },
      "source": [
        "#Filtering out the movies from the input\n",
        "userMovies = moviesWithGenres_df[moviesWithGenres_df['MovieId'].isin(inputMovies['MovieId'].tolist())]\n",
        "userMovies"
      ],
      "execution_count": 51,
      "outputs": [
        {
          "output_type": "execute_result",
          "data": {
            "text/html": [
              "<div>\n",
              "<style scoped>\n",
              "    .dataframe tbody tr th:only-of-type {\n",
              "        vertical-align: middle;\n",
              "    }\n",
              "\n",
              "    .dataframe tbody tr th {\n",
              "        vertical-align: top;\n",
              "    }\n",
              "\n",
              "    .dataframe thead th {\n",
              "        text-align: right;\n",
              "    }\n",
              "</style>\n",
              "<table border=\"1\" class=\"dataframe\">\n",
              "  <thead>\n",
              "    <tr style=\"text-align: right;\">\n",
              "      <th></th>\n",
              "      <th>MovieId</th>\n",
              "      <th>Title</th>\n",
              "      <th>Genres</th>\n",
              "      <th>Drama</th>\n",
              "      <th>Romance</th>\n",
              "      <th>Action</th>\n",
              "      <th>Crime</th>\n",
              "      <th>History</th>\n",
              "      <th>Family</th>\n",
              "      <th>Adventure</th>\n",
              "      <th>SciFi</th>\n",
              "      <th>Fantasy</th>\n",
              "    </tr>\n",
              "  </thead>\n",
              "  <tbody>\n",
              "    <tr>\n",
              "      <th>0</th>\n",
              "      <td>0</td>\n",
              "      <td>AADC 2</td>\n",
              "      <td>[Drama, Romance]</td>\n",
              "      <td>1.0</td>\n",
              "      <td>1.0</td>\n",
              "      <td>0.0</td>\n",
              "      <td>0.0</td>\n",
              "      <td>0.0</td>\n",
              "      <td>0.0</td>\n",
              "      <td>0.0</td>\n",
              "      <td>0.0</td>\n",
              "      <td>0.0</td>\n",
              "    </tr>\n",
              "    <tr>\n",
              "      <th>2</th>\n",
              "      <td>2</td>\n",
              "      <td>Dilan 1991</td>\n",
              "      <td>[Drama, Romance]</td>\n",
              "      <td>1.0</td>\n",
              "      <td>1.0</td>\n",
              "      <td>0.0</td>\n",
              "      <td>0.0</td>\n",
              "      <td>0.0</td>\n",
              "      <td>0.0</td>\n",
              "      <td>0.0</td>\n",
              "      <td>0.0</td>\n",
              "      <td>0.0</td>\n",
              "    </tr>\n",
              "    <tr>\n",
              "      <th>4</th>\n",
              "      <td>4</td>\n",
              "      <td>Dua Garis Biru</td>\n",
              "      <td>[Drama, Family]</td>\n",
              "      <td>1.0</td>\n",
              "      <td>0.0</td>\n",
              "      <td>0.0</td>\n",
              "      <td>0.0</td>\n",
              "      <td>0.0</td>\n",
              "      <td>1.0</td>\n",
              "      <td>0.0</td>\n",
              "      <td>0.0</td>\n",
              "      <td>0.0</td>\n",
              "    </tr>\n",
              "    <tr>\n",
              "      <th>5</th>\n",
              "      <td>5</td>\n",
              "      <td>Avengers End Game</td>\n",
              "      <td>[Action, Adventure, SciFi]</td>\n",
              "      <td>0.0</td>\n",
              "      <td>0.0</td>\n",
              "      <td>1.0</td>\n",
              "      <td>0.0</td>\n",
              "      <td>0.0</td>\n",
              "      <td>0.0</td>\n",
              "      <td>1.0</td>\n",
              "      <td>1.0</td>\n",
              "      <td>0.0</td>\n",
              "    </tr>\n",
              "    <tr>\n",
              "      <th>9</th>\n",
              "      <td>9</td>\n",
              "      <td>Captain Marvel</td>\n",
              "      <td>[Action, Adventure, SciFi]</td>\n",
              "      <td>0.0</td>\n",
              "      <td>0.0</td>\n",
              "      <td>1.0</td>\n",
              "      <td>0.0</td>\n",
              "      <td>0.0</td>\n",
              "      <td>0.0</td>\n",
              "      <td>1.0</td>\n",
              "      <td>1.0</td>\n",
              "      <td>0.0</td>\n",
              "    </tr>\n",
              "  </tbody>\n",
              "</table>\n",
              "</div>"
            ],
            "text/plain": [
              "   MovieId              Title  ... SciFi  Fantasy\n",
              "0        0             AADC 2  ...   0.0      0.0\n",
              "2        2         Dilan 1991  ...   0.0      0.0\n",
              "4        4     Dua Garis Biru  ...   0.0      0.0\n",
              "5        5  Avengers End Game  ...   1.0      0.0\n",
              "9        9     Captain Marvel  ...   1.0      0.0\n",
              "\n",
              "[5 rows x 12 columns]"
            ]
          },
          "metadata": {
            "tags": []
          },
          "execution_count": 51
        }
      ]
    },
    {
      "cell_type": "markdown",
      "metadata": {
        "id": "wOu13pEZUCKG",
        "colab_type": "text"
      },
      "source": [
        "It only need the actual genre table, then clean this up a bit by resetting the index and dropping the movieId, title, genres and year columns."
      ]
    },
    {
      "cell_type": "code",
      "metadata": {
        "id": "d_tCBMQLT9HC",
        "colab_type": "code",
        "colab": {
          "base_uri": "https://localhost:8080/",
          "height": 204
        },
        "outputId": "dac0855e-41d1-4496-8226-6a5a7d0c738f"
      },
      "source": [
        "#Resetting the index to avoid future issues\n",
        "userMovies = userMovies.reset_index(drop=True)\n",
        "#Dropping unnecessary issues due to save memory and to avoid issues\n",
        "userGenreTable = userMovies.drop('MovieId', 1).drop('Title', 1).drop('Genres', 1)\n",
        "userGenreTable"
      ],
      "execution_count": 53,
      "outputs": [
        {
          "output_type": "execute_result",
          "data": {
            "text/html": [
              "<div>\n",
              "<style scoped>\n",
              "    .dataframe tbody tr th:only-of-type {\n",
              "        vertical-align: middle;\n",
              "    }\n",
              "\n",
              "    .dataframe tbody tr th {\n",
              "        vertical-align: top;\n",
              "    }\n",
              "\n",
              "    .dataframe thead th {\n",
              "        text-align: right;\n",
              "    }\n",
              "</style>\n",
              "<table border=\"1\" class=\"dataframe\">\n",
              "  <thead>\n",
              "    <tr style=\"text-align: right;\">\n",
              "      <th></th>\n",
              "      <th>Drama</th>\n",
              "      <th>Romance</th>\n",
              "      <th>Action</th>\n",
              "      <th>Crime</th>\n",
              "      <th>History</th>\n",
              "      <th>Family</th>\n",
              "      <th>Adventure</th>\n",
              "      <th>SciFi</th>\n",
              "      <th>Fantasy</th>\n",
              "    </tr>\n",
              "  </thead>\n",
              "  <tbody>\n",
              "    <tr>\n",
              "      <th>0</th>\n",
              "      <td>1.0</td>\n",
              "      <td>1.0</td>\n",
              "      <td>0.0</td>\n",
              "      <td>0.0</td>\n",
              "      <td>0.0</td>\n",
              "      <td>0.0</td>\n",
              "      <td>0.0</td>\n",
              "      <td>0.0</td>\n",
              "      <td>0.0</td>\n",
              "    </tr>\n",
              "    <tr>\n",
              "      <th>1</th>\n",
              "      <td>1.0</td>\n",
              "      <td>1.0</td>\n",
              "      <td>0.0</td>\n",
              "      <td>0.0</td>\n",
              "      <td>0.0</td>\n",
              "      <td>0.0</td>\n",
              "      <td>0.0</td>\n",
              "      <td>0.0</td>\n",
              "      <td>0.0</td>\n",
              "    </tr>\n",
              "    <tr>\n",
              "      <th>2</th>\n",
              "      <td>1.0</td>\n",
              "      <td>0.0</td>\n",
              "      <td>0.0</td>\n",
              "      <td>0.0</td>\n",
              "      <td>0.0</td>\n",
              "      <td>1.0</td>\n",
              "      <td>0.0</td>\n",
              "      <td>0.0</td>\n",
              "      <td>0.0</td>\n",
              "    </tr>\n",
              "    <tr>\n",
              "      <th>3</th>\n",
              "      <td>0.0</td>\n",
              "      <td>0.0</td>\n",
              "      <td>1.0</td>\n",
              "      <td>0.0</td>\n",
              "      <td>0.0</td>\n",
              "      <td>0.0</td>\n",
              "      <td>1.0</td>\n",
              "      <td>1.0</td>\n",
              "      <td>0.0</td>\n",
              "    </tr>\n",
              "    <tr>\n",
              "      <th>4</th>\n",
              "      <td>0.0</td>\n",
              "      <td>0.0</td>\n",
              "      <td>1.0</td>\n",
              "      <td>0.0</td>\n",
              "      <td>0.0</td>\n",
              "      <td>0.0</td>\n",
              "      <td>1.0</td>\n",
              "      <td>1.0</td>\n",
              "      <td>0.0</td>\n",
              "    </tr>\n",
              "  </tbody>\n",
              "</table>\n",
              "</div>"
            ],
            "text/plain": [
              "   Drama  Romance  Action  Crime  History  Family  Adventure  SciFi  Fantasy\n",
              "0    1.0      1.0     0.0    0.0      0.0     0.0        0.0    0.0      0.0\n",
              "1    1.0      1.0     0.0    0.0      0.0     0.0        0.0    0.0      0.0\n",
              "2    1.0      0.0     0.0    0.0      0.0     1.0        0.0    0.0      0.0\n",
              "3    0.0      0.0     1.0    0.0      0.0     0.0        1.0    1.0      0.0\n",
              "4    0.0      0.0     1.0    0.0      0.0     0.0        1.0    1.0      0.0"
            ]
          },
          "metadata": {
            "tags": []
          },
          "execution_count": 53
        }
      ]
    },
    {
      "cell_type": "markdown",
      "metadata": {
        "id": "eavyX_gVUTcn",
        "colab_type": "text"
      },
      "source": [
        "### Input Preference\n",
        "\n",
        "To do this, It going to turn each genre into weights. It can done by using the input's reviews and multiplying them into the input's genre table and then summing up the resulting table by column. This operation is actually a dot product between a matrix and a vector, so we can simply accomplish by calling Pandas's \"dot\" function."
      ]
    },
    {
      "cell_type": "code",
      "metadata": {
        "id": "gpViw5owUHZy",
        "colab_type": "code",
        "colab": {
          "base_uri": "https://localhost:8080/",
          "height": 119
        },
        "outputId": "4d5187c1-d9c9-402e-9b9e-6829880282ed"
      },
      "source": [
        "inputMovies['Ratings']"
      ],
      "execution_count": 54,
      "outputs": [
        {
          "output_type": "execute_result",
          "data": {
            "text/plain": [
              "0    3\n",
              "1    2\n",
              "2    4\n",
              "3    5\n",
              "4    3\n",
              "Name: Ratings, dtype: int64"
            ]
          },
          "metadata": {
            "tags": []
          },
          "execution_count": 54
        }
      ]
    },
    {
      "cell_type": "code",
      "metadata": {
        "id": "w-ampghGUe9u",
        "colab_type": "code",
        "colab": {
          "base_uri": "https://localhost:8080/",
          "height": 187
        },
        "outputId": "1d66b7d9-bf85-4309-f36b-742ab0385d04"
      },
      "source": [
        "#Dot produt to get weights\n",
        "userProfile = userGenreTable.transpose().dot(inputMovies['Ratings'])\n",
        "#The user profile\n",
        "userProfile"
      ],
      "execution_count": 55,
      "outputs": [
        {
          "output_type": "execute_result",
          "data": {
            "text/plain": [
              "Drama        9.0\n",
              "Romance      5.0\n",
              "Action       8.0\n",
              "Crime        0.0\n",
              "History      0.0\n",
              "Family       4.0\n",
              "Adventure    8.0\n",
              "SciFi        8.0\n",
              "Fantasy      0.0\n",
              "dtype: float64"
            ]
          },
          "metadata": {
            "tags": []
          },
          "execution_count": 55
        }
      ]
    },
    {
      "cell_type": "markdown",
      "metadata": {
        "id": "F_rC2V4eUoce",
        "colab_type": "text"
      },
      "source": [
        "The weights for every of the user's preferences is available. This is known as the User Profile. By this, It can recommend movies that satisfy the user's preferences."
      ]
    },
    {
      "cell_type": "markdown",
      "metadata": {
        "id": "ZT8peBjUU5oX",
        "colab_type": "text"
      },
      "source": [
        "### Extracting Genre table\n",
        "\n",
        "Next Step is extracting genre table from original data frame"
      ]
    },
    {
      "cell_type": "code",
      "metadata": {
        "id": "0y8Uz5eOUiya",
        "colab_type": "code",
        "colab": {
          "base_uri": "https://localhost:8080/",
          "height": 235
        },
        "outputId": "657c99b9-d858-459b-a183-431243289d70"
      },
      "source": [
        "#Now let's get the genres of every movie in our original dataframe\n",
        "genreTable = moviesWithGenres_df.set_index(moviesWithGenres_df['MovieId'])\n",
        "#And drop the unnecessary information\n",
        "genreTable = genreTable.drop('MovieId', 1).drop('Title', 1).drop('Genres', 1)\n",
        "genreTable.head()"
      ],
      "execution_count": 57,
      "outputs": [
        {
          "output_type": "execute_result",
          "data": {
            "text/html": [
              "<div>\n",
              "<style scoped>\n",
              "    .dataframe tbody tr th:only-of-type {\n",
              "        vertical-align: middle;\n",
              "    }\n",
              "\n",
              "    .dataframe tbody tr th {\n",
              "        vertical-align: top;\n",
              "    }\n",
              "\n",
              "    .dataframe thead th {\n",
              "        text-align: right;\n",
              "    }\n",
              "</style>\n",
              "<table border=\"1\" class=\"dataframe\">\n",
              "  <thead>\n",
              "    <tr style=\"text-align: right;\">\n",
              "      <th></th>\n",
              "      <th>Drama</th>\n",
              "      <th>Romance</th>\n",
              "      <th>Action</th>\n",
              "      <th>Crime</th>\n",
              "      <th>History</th>\n",
              "      <th>Family</th>\n",
              "      <th>Adventure</th>\n",
              "      <th>SciFi</th>\n",
              "      <th>Fantasy</th>\n",
              "    </tr>\n",
              "    <tr>\n",
              "      <th>MovieId</th>\n",
              "      <th></th>\n",
              "      <th></th>\n",
              "      <th></th>\n",
              "      <th></th>\n",
              "      <th></th>\n",
              "      <th></th>\n",
              "      <th></th>\n",
              "      <th></th>\n",
              "      <th></th>\n",
              "    </tr>\n",
              "  </thead>\n",
              "  <tbody>\n",
              "    <tr>\n",
              "      <th>0</th>\n",
              "      <td>1.0</td>\n",
              "      <td>1.0</td>\n",
              "      <td>0.0</td>\n",
              "      <td>0.0</td>\n",
              "      <td>0.0</td>\n",
              "      <td>0.0</td>\n",
              "      <td>0.0</td>\n",
              "      <td>0.0</td>\n",
              "      <td>0.0</td>\n",
              "    </tr>\n",
              "    <tr>\n",
              "      <th>1</th>\n",
              "      <td>1.0</td>\n",
              "      <td>0.0</td>\n",
              "      <td>1.0</td>\n",
              "      <td>1.0</td>\n",
              "      <td>0.0</td>\n",
              "      <td>0.0</td>\n",
              "      <td>0.0</td>\n",
              "      <td>0.0</td>\n",
              "      <td>0.0</td>\n",
              "    </tr>\n",
              "    <tr>\n",
              "      <th>2</th>\n",
              "      <td>1.0</td>\n",
              "      <td>1.0</td>\n",
              "      <td>0.0</td>\n",
              "      <td>0.0</td>\n",
              "      <td>0.0</td>\n",
              "      <td>0.0</td>\n",
              "      <td>0.0</td>\n",
              "      <td>0.0</td>\n",
              "      <td>0.0</td>\n",
              "    </tr>\n",
              "    <tr>\n",
              "      <th>3</th>\n",
              "      <td>1.0</td>\n",
              "      <td>0.0</td>\n",
              "      <td>0.0</td>\n",
              "      <td>0.0</td>\n",
              "      <td>1.0</td>\n",
              "      <td>0.0</td>\n",
              "      <td>0.0</td>\n",
              "      <td>0.0</td>\n",
              "      <td>0.0</td>\n",
              "    </tr>\n",
              "    <tr>\n",
              "      <th>4</th>\n",
              "      <td>1.0</td>\n",
              "      <td>0.0</td>\n",
              "      <td>0.0</td>\n",
              "      <td>0.0</td>\n",
              "      <td>0.0</td>\n",
              "      <td>1.0</td>\n",
              "      <td>0.0</td>\n",
              "      <td>0.0</td>\n",
              "      <td>0.0</td>\n",
              "    </tr>\n",
              "  </tbody>\n",
              "</table>\n",
              "</div>"
            ],
            "text/plain": [
              "         Drama  Romance  Action  Crime  ...  Family  Adventure  SciFi  Fantasy\n",
              "MovieId                                 ...                                   \n",
              "0          1.0      1.0     0.0    0.0  ...     0.0        0.0    0.0      0.0\n",
              "1          1.0      0.0     1.0    1.0  ...     0.0        0.0    0.0      0.0\n",
              "2          1.0      1.0     0.0    0.0  ...     0.0        0.0    0.0      0.0\n",
              "3          1.0      0.0     0.0    0.0  ...     0.0        0.0    0.0      0.0\n",
              "4          1.0      0.0     0.0    0.0  ...     1.0        0.0    0.0      0.0\n",
              "\n",
              "[5 rows x 9 columns]"
            ]
          },
          "metadata": {
            "tags": []
          },
          "execution_count": 57
        }
      ]
    },
    {
      "cell_type": "code",
      "metadata": {
        "id": "ynZPMJkIVC6m",
        "colab_type": "code",
        "colab": {
          "base_uri": "https://localhost:8080/",
          "height": 34
        },
        "outputId": "36b4f91e-b3e5-4bff-ce6f-e6aa924d2c02"
      },
      "source": [
        "genreTable.shape"
      ],
      "execution_count": 58,
      "outputs": [
        {
          "output_type": "execute_result",
          "data": {
            "text/plain": [
              "(10, 9)"
            ]
          },
          "metadata": {
            "tags": []
          },
          "execution_count": 58
        }
      ]
    },
    {
      "cell_type": "markdown",
      "metadata": {
        "id": "GRylFMcuVn7O",
        "colab_type": "text"
      },
      "source": [
        "### Weighted Average of Movie"
      ]
    },
    {
      "cell_type": "markdown",
      "metadata": {
        "id": "zzdjsaTNVLn1",
        "colab_type": "text"
      },
      "source": [
        "With the input's profile and the complete list of movies and their genres in hand, next step is going to take the weighted average of every movie based on the input profile and recommend the top twenty movies that most satisfy it."
      ]
    },
    {
      "cell_type": "code",
      "metadata": {
        "id": "bPf0YK0WVIwS",
        "colab_type": "code",
        "colab": {
          "base_uri": "https://localhost:8080/",
          "height": 136
        },
        "outputId": "e7fc3bdd-3949-41c0-c792-08ba71c4daf1"
      },
      "source": [
        "#Multiply the genres by the weights and then take the weighted average\n",
        "recommendationTable_df = ((genreTable*userProfile).sum(axis=1))/(userProfile.sum())\n",
        "recommendationTable_df.head()"
      ],
      "execution_count": 59,
      "outputs": [
        {
          "output_type": "execute_result",
          "data": {
            "text/plain": [
              "MovieId\n",
              "0    0.333333\n",
              "1    0.404762\n",
              "2    0.333333\n",
              "3    0.214286\n",
              "4    0.309524\n",
              "dtype: float64"
            ]
          },
          "metadata": {
            "tags": []
          },
          "execution_count": 59
        }
      ]
    },
    {
      "cell_type": "code",
      "metadata": {
        "id": "KA5YUR-7VQTt",
        "colab_type": "code",
        "colab": {
          "base_uri": "https://localhost:8080/",
          "height": 136
        },
        "outputId": "a0b6faaf-fcaf-4aed-e10a-e870f06a8b5a"
      },
      "source": [
        "#Sort our recommendations in descending order\n",
        "recommendationTable_df = recommendationTable_df.sort_values(ascending=False)\n",
        "#Just a peek at the values\n",
        "recommendationTable_df.head()"
      ],
      "execution_count": 60,
      "outputs": [
        {
          "output_type": "execute_result",
          "data": {
            "text/plain": [
              "MovieId\n",
              "6    0.595238\n",
              "9    0.571429\n",
              "8    0.571429\n",
              "5    0.571429\n",
              "1    0.404762\n",
              "dtype: float64"
            ]
          },
          "metadata": {
            "tags": []
          },
          "execution_count": 60
        }
      ]
    },
    {
      "cell_type": "markdown",
      "metadata": {
        "id": "eZoz3lYMV5F1",
        "colab_type": "text"
      },
      "source": [
        "### Result and Recommendation"
      ]
    },
    {
      "cell_type": "code",
      "metadata": {
        "id": "DRBA9NuNV2rl",
        "colab_type": "code",
        "colab": {
          "base_uri": "https://localhost:8080/",
          "height": 142
        },
        "outputId": "26f09cb8-eecf-4dca-9640-bdfde50e98d7"
      },
      "source": [
        "movies_df.loc[movies_df['MovieId'].isin(recommendationTable_df.head(3).keys())]"
      ],
      "execution_count": 62,
      "outputs": [
        {
          "output_type": "execute_result",
          "data": {
            "text/html": [
              "<div>\n",
              "<style scoped>\n",
              "    .dataframe tbody tr th:only-of-type {\n",
              "        vertical-align: middle;\n",
              "    }\n",
              "\n",
              "    .dataframe tbody tr th {\n",
              "        vertical-align: top;\n",
              "    }\n",
              "\n",
              "    .dataframe thead th {\n",
              "        text-align: right;\n",
              "    }\n",
              "</style>\n",
              "<table border=\"1\" class=\"dataframe\">\n",
              "  <thead>\n",
              "    <tr style=\"text-align: right;\">\n",
              "      <th></th>\n",
              "      <th>MovieId</th>\n",
              "      <th>Title</th>\n",
              "      <th>Genres</th>\n",
              "    </tr>\n",
              "  </thead>\n",
              "  <tbody>\n",
              "    <tr>\n",
              "      <th>6</th>\n",
              "      <td>6</td>\n",
              "      <td>The Lion King</td>\n",
              "      <td>[Action, Adventure, Drama]</td>\n",
              "    </tr>\n",
              "    <tr>\n",
              "      <th>8</th>\n",
              "      <td>8</td>\n",
              "      <td>Spiderman Far From Home</td>\n",
              "      <td>[Action, Adventure, SciFi]</td>\n",
              "    </tr>\n",
              "    <tr>\n",
              "      <th>9</th>\n",
              "      <td>9</td>\n",
              "      <td>Captain Marvel</td>\n",
              "      <td>[Action, Adventure, SciFi]</td>\n",
              "    </tr>\n",
              "  </tbody>\n",
              "</table>\n",
              "</div>"
            ],
            "text/plain": [
              "   MovieId                    Title                      Genres\n",
              "6        6            The Lion King  [Action, Adventure, Drama]\n",
              "8        8  Spiderman Far From Home  [Action, Adventure, SciFi]\n",
              "9        9           Captain Marvel  [Action, Adventure, SciFi]"
            ]
          },
          "metadata": {
            "tags": []
          },
          "execution_count": 62
        }
      ]
    },
    {
      "cell_type": "markdown",
      "metadata": {
        "id": "PqLakjaFWO-G",
        "colab_type": "text"
      },
      "source": [
        "We can see that the top 3 recommended movies for this Users need to watch based on Conten Based Filtering is **The Lion King, Spiderman Far From Home and Captain Marvel**."
      ]
    }
  ]
}